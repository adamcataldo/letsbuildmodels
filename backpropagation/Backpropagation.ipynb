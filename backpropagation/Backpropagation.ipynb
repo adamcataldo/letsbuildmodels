{
 "cells": [
  {
   "cell_type": "markdown",
   "id": "8efb95a0-478f-493b-9238-05257be6eb12",
   "metadata": {},
   "source": [
    "# Introduction\n",
    "\n",
    "This notebook is inspired by:\n",
    "\n",
    "Rumelhart, D., Hinton, G. & Williams, R. Learning representations by back-propagating errors. _Nature_ 323, 533–536 (1986). __[https://doi.org/10.1038/323533a0](https://doi.org/10.1038/323533a0)__"
   ]
  },
  {
   "cell_type": "code",
   "execution_count": 1,
   "id": "4fb1ee33-8beb-4c31-9dfc-f3b98c7f3102",
   "metadata": {},
   "outputs": [],
   "source": [
    "# imports\n",
    "import numpy as np\n",
    "import keras as keras\n",
    "import tensorflow as tf\n",
    "from enum import Enum\n",
    "from sklearn.model_selection import train_test_split"
   ]
  },
  {
   "cell_type": "markdown",
   "id": "55d23448-0700-4538-af22-e0d247d93935",
   "metadata": {},
   "source": [
    "# Mirror Symmetry\n",
    "\n",
    "The first example in the paper is a neural network that tests for mirror symmetry in vectors. A vector like \\[1, 3, 2, 2, 3, 1\\] has mirror symmetry, while a vector like \\[1, 3, 2, 1, 3, 2\\] does not."
   ]
  },
  {
   "cell_type": "code",
   "execution_count": 2,
   "id": "27c00731-623d-4a0c-a2c1-68f5b914479f",
   "metadata": {},
   "outputs": [
    {
     "data": {
      "text/plain": [
       "<keras.src.callbacks.history.History at 0x32c46bfe0>"
      ]
     },
     "execution_count": 2,
     "metadata": {},
     "output_type": "execute_result"
    }
   ],
   "source": [
    "# Generate symmetric and non-symmetric vectors\n",
    "def generate_data(samples, length):\n",
    "    X, y = [], []\n",
    "    for _ in range(samples // 2):\n",
    "        half = np.random.rand(length // 2)\n",
    "        symmetric = np.concatenate([half, half[::-1]])\n",
    "        non_symmetric = np.random.rand(length)\n",
    "        X.append(symmetric)\n",
    "        y.append(1.0)\n",
    "        X.append(non_symmetric)\n",
    "        y.append(0.0)\n",
    "    return np.array(X), np.array(y)\n",
    "\n",
    "# These values are taken straight from the paper\n",
    "samples = 64\n",
    "length = 6\n",
    "epochs = 1425\n",
    "epsilon = 0.1\n",
    "alpha = 0.9\n",
    "\n",
    "X, y = generate_data(samples, length)\n",
    "\n",
    "# Note that the model has a single hidden layer with two nodes, and a single output\n",
    "model = keras.Sequential()\n",
    "model.add(keras.Input(shape=(length,)))\n",
    "model.add(keras.layers.Dense(2))\n",
    "model.add(keras.layers.Activation(keras.activations.sigmoid))\n",
    "model.add(keras.layers.Dense(1))\n",
    "model.add(keras.layers.Activation(keras.activations.sigmoid))\n",
    "model.compile(\n",
    "    optimizer=keras.optimizers.SGD(learning_rate=epsilon, momentum=alpha),\n",
    "    loss=keras.losses.MeanSquaredError(),\n",
    "    metrics=[\n",
    "        'binary_accuracy'\n",
    "    ],\n",
    ")\n",
    "model.fit(X, y, epochs=epochs, batch_size=samples, verbose=0)"
   ]
  },
  {
   "cell_type": "code",
   "execution_count": 3,
   "id": "31ff6970-8de3-41f9-aeb6-932f0b43872e",
   "metadata": {},
   "outputs": [
    {
     "name": "stdout",
     "output_type": "stream",
     "text": [
      "\u001b[1m1/1\u001b[0m \u001b[32m━━━━━━━━━━━━━━━━━━━━\u001b[0m\u001b[37m\u001b[0m \u001b[1m0s\u001b[0m 43ms/step - binary_accuracy: 0.6250 - loss: 0.2383\n"
     ]
    },
    {
     "data": {
      "text/plain": [
       "[0.2383277416229248, 0.625]"
      ]
     },
     "execution_count": 3,
     "metadata": {},
     "output_type": "execute_result"
    }
   ],
   "source": [
    "X_test, y_test = generate_data(samples // 2, length)\n",
    "\n",
    "model.evaluate(X_test, y_test)"
   ]
  },
  {
   "cell_type": "markdown",
   "id": "8899f478-1706-433f-b5c3-21182d44a698",
   "metadata": {},
   "source": [
    "# Family Relationships\n",
    "\n",
    "The second example in the paper modeled family relationships (father, mother, husband, wife, daughter, son, aunt, uncle, niece, nephew, brother, sister). 100 examples were used to a tain the model, and the remaining 4 were used as test data. Note that family structure in the paper was quite simple, and doesn't account for things the model didn't account for, like divorce, same-sex marriage, having children out of wedlock, non-binary gender, and remarriage. If things look \"wrong\" in my family-tree code, it's because I tried to stay loyal to the model in the paper."
   ]
  },
  {
   "cell_type": "code",
   "execution_count": 4,
   "id": "ff10bc2b-0862-4715-a557-72b1ae1a6f0f",
   "metadata": {},
   "outputs": [
    {
     "name": "stdout",
     "output_type": "stream",
     "text": [
      "Updating optimizer hyperparameters at epoch 20\n"
     ]
    },
    {
     "data": {
      "text/plain": [
       "<keras.src.callbacks.history.History at 0x32ea047a0>"
      ]
     },
     "execution_count": 4,
     "metadata": {},
     "output_type": "execute_result"
    }
   ],
   "source": [
    "# Classes to store a family tree in\n",
    "\n",
    "class Name(Enum):\n",
    "    CHRISTOPHER = 0\n",
    "    PENELOPE = 1\n",
    "    ANDREW = 2\n",
    "    CHRISTINE = 3\n",
    "    MARGARET = 4\n",
    "    ARTHUR = 5\n",
    "    VICTORIA = 6\n",
    "    JAMES = 7\n",
    "    JENNIFER = 8\n",
    "    CHARLES = 9\n",
    "    COLIN = 10\n",
    "    CHARLOTTE = 11\n",
    "    ROBERTO = 12\n",
    "    MARIA = 13\n",
    "    PIERRO = 14\n",
    "    FRANCESCA = 15\n",
    "    GINA = 16\n",
    "    EMILIO = 17\n",
    "    LUCIA = 18\n",
    "    MARCO = 19\n",
    "    ANGELA = 20\n",
    "    TOMASO = 21\n",
    "    ALFONSO = 22\n",
    "    SOPHIA = 23\n",
    "\n",
    "class Relationship(Enum):\n",
    "    FATHER = 24\n",
    "    MOTHER = 25\n",
    "    HUSBAND = 26\n",
    "    WIFE = 27\n",
    "    SON = 28\n",
    "    DAUGHTER = 29\n",
    "    UNCLE = 30\n",
    "    AUNT = 31\n",
    "    BROTHER = 32\n",
    "    SISTER = 33\n",
    "    NEPHEW = 34\n",
    "    NIECE = 35\n",
    "\n",
    "first_family = [\n",
    "    (Name.CHRISTOPHER, Relationship.WIFE, Name.PENELOPE),\n",
    "    (Name.PENELOPE, Relationship.HUSBAND, Name.CHRISTOPHER),\n",
    "    (Name.CHRISTOPHER, Relationship.SON, Name.ARTHUR),\n",
    "    (Name.ARTHUR, Relationship.FATHER, Name.CHRISTOPHER),\n",
    "    (Name.CHRISTOPHER, Relationship.DAUGHTER, Name.VICTORIA),\n",
    "    (Name.VICTORIA, Relationship.FATHER, Name.CHRISTOPHER),\n",
    "    (Name.PENELOPE, Relationship.SON, Name.ARTHUR),\n",
    "    (Name.ARTHUR, Relationship.MOTHER, Name.PENELOPE),\n",
    "    (Name.PENELOPE, Relationship.DAUGHTER, Name.VICTORIA),\n",
    "    (Name.VICTORIA, Relationship.MOTHER, Name.PENELOPE),\n",
    "    (Name.ANDREW, Relationship.WIFE, Name.CHRISTINE),\n",
    "    (Name.CHRISTINE, Relationship.HUSBAND, Name.ANDREW),\n",
    "    (Name.ANDREW, Relationship.SON, Name.JAMES),\n",
    "    (Name.JAMES, Relationship.FATHER, Name.ANDREW),\n",
    "    (Name.ANDREW, Relationship.DAUGHTER, Name.JENNIFER),\n",
    "    (Name.JENNIFER, Relationship.FATHER, Name.ANDREW),\n",
    "    (Name.CHRISTINE, Relationship.SON, Name.JAMES),\n",
    "    (Name.JAMES, Relationship.MOTHER, Name.CHRISTINE),\n",
    "    (Name.CHRISTINE, Relationship.DAUGHTER, Name.JENNIFER),\n",
    "    (Name.JENNIFER, Relationship.MOTHER, Name.CHRISTINE),\n",
    "    (Name.MARGARET, Relationship.HUSBAND, Name.ARTHUR),\n",
    "    (Name.ARTHUR, Relationship.WIFE, Name.MARGARET),\n",
    "    (Name.MARGARET, Relationship.NEPHEW, Name.COLIN),\n",
    "    (Name.COLIN, Relationship.AUNT, Name.MARGARET),\n",
    "    (Name.MARGARET, Relationship.NIECE, Name.CHARLOTTE),\n",
    "    (Name.CHARLOTTE, Relationship.AUNT, Name.MARGARET),\n",
    "    (Name.ARTHUR, Relationship.NEPHEW, Name.COLIN),\n",
    "    (Name.COLIN, Relationship.UNCLE, Name.ARTHUR),\n",
    "    (Name.ARTHUR, Relationship.NIECE, Name.CHARLOTTE),\n",
    "    (Name.CHARLOTTE, Relationship.UNCLE, Name.ARTHUR),\n",
    "    (Name.ARTHUR, Relationship.SISTER, Name.VICTORIA),\n",
    "    (Name.VICTORIA, Relationship.BROTHER, Name.ARTHUR),    \n",
    "    (Name.VICTORIA, Relationship.HUSBAND, Name.JAMES),\n",
    "    (Name.JAMES, Relationship.WIFE, Name.VICTORIA),\n",
    "    (Name.VICTORIA, Relationship.SON, Name.COLIN),\n",
    "    (Name.COLIN, Relationship.MOTHER, Name.VICTORIA),\n",
    "    (Name.VICTORIA, Relationship.DAUGHTER, Name.CHARLOTTE),\n",
    "    (Name.CHARLOTTE, Relationship.MOTHER, Name.VICTORIA),\n",
    "    (Name.JAMES, Relationship.SON, Name.COLIN),\n",
    "    (Name.COLIN, Relationship.FATHER, Name.JAMES),\n",
    "    (Name.JAMES, Relationship.DAUGHTER, Name.CHARLOTTE),\n",
    "    (Name.CHARLOTTE, Relationship.FATHER, Name.JAMES),\n",
    "    (Name.JAMES, Relationship.SISTER, Name.JENNIFER),\n",
    "    (Name.JENNIFER, Relationship.BROTHER, Name.JAMES),\n",
    "    (Name.JENNIFER, Relationship.HUSBAND, Name.CHARLES),\n",
    "    (Name.CHARLES, Relationship.WIFE, Name.JENNIFER),\n",
    "    (Name.JENNIFER, Relationship.NEPHEW, Name.COLIN),\n",
    "    (Name.COLIN, Relationship.AUNT, Name.JENNIFER),\n",
    "    (Name.JENNIFER, Relationship.NIECE, Name.CHARLOTTE),\n",
    "    (Name.CHARLOTTE, Relationship.AUNT, Name.JENNIFER),\n",
    "    (Name.CHARLES, Relationship.NEPHEW, Name.COLIN),\n",
    "    (Name.COLIN, Relationship.UNCLE, Name.CHARLES),\n",
    "    (Name.CHARLES, Relationship.NIECE, Name.CHARLOTTE),\n",
    "    (Name.CHARLOTTE, Relationship.UNCLE, Name.CHARLES),\n",
    "    (Name.COLIN, Relationship.SISTER, Name.CHARLOTTE),\n",
    "    (Name.CHARLOTTE, Relationship.BROTHER, Name.COLIN),\n",
    "]\n",
    "second_family = [(Name(l.value + 12), m, Name(r.value + 12)) for (l, m, r) in first_family]\n",
    "relationships = first_family + second_family\n",
    "\n",
    "X_y = np.array([(l.value, m.value, r.value) for (l, m, r) in relationships])\n",
    "X = X_y[:, 0:2]\n",
    "y = keras.utils.to_categorical(X_y[:, 2:], num_classes=24)\n",
    "X_train, X_test, y_train, y_test = train_test_split(X, y, test_size=0.03)\n",
    "\n",
    "\n",
    "# Note that the model has 5 layers. \n",
    "# The 36 inputs in the first layer correspond to (name, relationship) pairs.\n",
    "# The 24 outputs are all name values.\n",
    "inputs = len(Name) + len(Relationship)\n",
    "outputs = len(Name)\n",
    "\n",
    "model = keras.Sequential()\n",
    "model.add(keras.Input(shape=(2,)))\n",
    "model.add(keras.layers.CategoryEncoding(num_tokens=inputs, output_mode='multi_hot'))\n",
    "model.add(keras.layers.Dense(6))\n",
    "model.add(keras.layers.Activation(keras.activations.sigmoid))\n",
    "model.add(keras.layers.Dense(12))\n",
    "model.add(keras.layers.Activation(keras.activations.sigmoid))\n",
    "model.add(keras.layers.Dense(12))\n",
    "model.add(keras.layers.Activation(keras.activations.sigmoid))\n",
    "model.add(keras.layers.Dense(outputs))\n",
    "model.add(keras.layers.Activation(keras.activations.sigmoid))\n",
    "\n",
    "\n",
    "# In the paper the learning rate and momentum change after 20 epochs from\n",
    "# (0.005, 0.5) to (0.01, 0.9)\n",
    "initial_epsilon = 0.005\n",
    "initial_alpha = 0.5\n",
    "initial_epochs = 20\n",
    "final_epsilon = 0.005\n",
    "final_alpha = 0.9\n",
    "weight_decay = 0.002\n",
    "epochs = 1500\n",
    "samples = np.shape(X_train)[0]\n",
    "correct_true = 0.8\n",
    "correct_false = 0.2\n",
    "\n",
    "sgd = keras.optimizers.SGD(learning_rate=initial_epsilon, momentum=initial_alpha, weight_decay = weight_decay)\n",
    "\n",
    "# This is used to update the gradient descent parameters\n",
    "class UpdateSGDHyperparameters(keras.callbacks.Callback):\n",
    "    def __init__(self, optimizer):\n",
    "        super().__init__()\n",
    "        self.optimizer = optimizer\n",
    "        self.epoch_threshold = initial_epochs\n",
    "        self.new_lr = final_epsilon\n",
    "        self.new_momentum = final_alpha\n",
    "\n",
    "    def on_epoch_begin(self, epoch, logs=None):\n",
    "        if epoch == self.epoch_threshold:\n",
    "            print(f\"Updating optimizer hyperparameters at epoch {epoch}\")\n",
    "            self.optimizer.learning_rate = self.new_lr\n",
    "            self.optimizer.momentum = self.new_momentum\n",
    "\n",
    "callback = UpdateSGDHyperparameters(sgd)\n",
    "\n",
    "# In the paper, if a prediction is bigger than 0.8 and the desired value is 1.0,\n",
    "# of if a prediction is smaller than 0.2 and the desired value is 1.0, the error\n",
    "# gets set to 0.\n",
    "def custom_loss_with_mse(y_true, y_pred):\n",
    "    correct_on = tf.greater_equal(y_pred, correct_true) & tf.equal(y_true, 1)\n",
    "    correct_off = tf.less_equal(y_pred, correct_false) & tf.equal(y_true, 0)\n",
    "    incorrect_mask = tf.cast(~(correct_on | correct_off), tf.float32)\n",
    "    return tf.reduce_mean(tf.square(y_pred - y_true) * incorrect_mask)\n",
    "\n",
    "model.compile(\n",
    "    optimizer=sgd,\n",
    "    loss=custom_loss_with_mse,\n",
    "    metrics=[\n",
    "        'binary_accuracy'\n",
    "    ],\n",
    ")\n",
    "model.fit(X_train, y_train, epochs=epochs, batch_size=samples, callbacks=[callback], verbose=0)"
   ]
  },
  {
   "cell_type": "code",
   "execution_count": 5,
   "id": "9760bdb7-62f1-47f9-86ab-4869944ccd44",
   "metadata": {},
   "outputs": [
    {
     "name": "stdout",
     "output_type": "stream",
     "text": [
      "\u001b[1m1/1\u001b[0m \u001b[32m━━━━━━━━━━━━━━━━━━━━\u001b[0m\u001b[37m\u001b[0m \u001b[1m0s\u001b[0m 61ms/step - binary_accuracy: 0.9583 - loss: 0.1678\n"
     ]
    },
    {
     "data": {
      "text/plain": [
       "[0.16775906085968018, 0.9583333134651184]"
      ]
     },
     "execution_count": 5,
     "metadata": {},
     "output_type": "execute_result"
    }
   ],
   "source": [
    "model.evaluate(X_test, y_test)"
   ]
  }
 ],
 "metadata": {
  "kernelspec": {
   "display_name": "Python 3 (ipykernel)",
   "language": "python",
   "name": "python3"
  },
  "language_info": {
   "codemirror_mode": {
    "name": "ipython",
    "version": 3
   },
   "file_extension": ".py",
   "mimetype": "text/x-python",
   "name": "python",
   "nbconvert_exporter": "python",
   "pygments_lexer": "ipython3",
   "version": "3.12.2"
  }
 },
 "nbformat": 4,
 "nbformat_minor": 5
}
