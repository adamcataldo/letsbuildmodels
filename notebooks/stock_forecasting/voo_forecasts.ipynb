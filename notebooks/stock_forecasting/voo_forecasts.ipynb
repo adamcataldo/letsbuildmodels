{
 "cells": [
  {
   "cell_type": "code",
   "execution_count": 2,
   "metadata": {},
   "outputs": [
    {
     "name": "stderr",
     "output_type": "stream",
     "text": [
      "[*********************100%***********************]  1 of 1 completed\n"
     ]
    },
    {
     "data": {
      "text/plain": [
       "pandas.core.frame.DataFrame"
      ]
     },
     "execution_count": 2,
     "metadata": {},
     "output_type": "execute_result"
    }
   ],
   "source": [
    "import yfinance as yf\n",
    "x = yf.download('VOO', start='2010-09-09')['Close']\n",
    "type(x)"
   ]
  },
  {
   "cell_type": "code",
   "execution_count": 6,
   "metadata": {},
   "outputs": [
    {
     "name": "stderr",
     "output_type": "stream",
     "text": [
      "[*********************100%***********************]  1 of 1 completed\n"
     ]
    },
    {
     "data": {
      "text/html": [
       "<div>\n",
       "<style scoped>\n",
       "    .dataframe tbody tr th:only-of-type {\n",
       "        vertical-align: middle;\n",
       "    }\n",
       "\n",
       "    .dataframe tbody tr th {\n",
       "        vertical-align: top;\n",
       "    }\n",
       "\n",
       "    .dataframe thead tr th {\n",
       "        text-align: left;\n",
       "    }\n",
       "\n",
       "    .dataframe thead tr:last-of-type th {\n",
       "        text-align: right;\n",
       "    }\n",
       "</style>\n",
       "<table border=\"1\" class=\"dataframe\">\n",
       "  <thead>\n",
       "    <tr>\n",
       "      <th>Price</th>\n",
       "      <th>Close</th>\n",
       "      <th>High</th>\n",
       "      <th>Low</th>\n",
       "      <th>Open</th>\n",
       "      <th>Volume</th>\n",
       "    </tr>\n",
       "    <tr>\n",
       "      <th>Ticker</th>\n",
       "      <th>AAPL</th>\n",
       "      <th>AAPL</th>\n",
       "      <th>AAPL</th>\n",
       "      <th>AAPL</th>\n",
       "      <th>AAPL</th>\n",
       "    </tr>\n",
       "    <tr>\n",
       "      <th>Date</th>\n",
       "      <th></th>\n",
       "      <th></th>\n",
       "      <th></th>\n",
       "      <th></th>\n",
       "      <th></th>\n",
       "    </tr>\n",
       "  </thead>\n",
       "  <tbody>\n",
       "    <tr>\n",
       "      <th>2010-09-09</th>\n",
       "      <td>7.916723</td>\n",
       "      <td>8.020546</td>\n",
       "      <td>7.912210</td>\n",
       "      <td>7.976008</td>\n",
       "      <td>438575200</td>\n",
       "    </tr>\n",
       "    <tr>\n",
       "      <th>2010-09-10</th>\n",
       "      <td>7.926954</td>\n",
       "      <td>7.959756</td>\n",
       "      <td>7.866465</td>\n",
       "      <td>7.920333</td>\n",
       "      <td>387542400</td>\n",
       "    </tr>\n",
       "    <tr>\n",
       "      <th>2010-09-13</th>\n",
       "      <td>8.036197</td>\n",
       "      <td>8.073513</td>\n",
       "      <td>7.997678</td>\n",
       "      <td>7.999482</td>\n",
       "      <td>388780000</td>\n",
       "    </tr>\n",
       "    <tr>\n",
       "      <th>2010-09-14</th>\n",
       "      <td>8.066892</td>\n",
       "      <td>8.100295</td>\n",
       "      <td>7.990454</td>\n",
       "      <td>8.011218</td>\n",
       "      <td>408150400</td>\n",
       "    </tr>\n",
       "    <tr>\n",
       "      <th>2010-09-15</th>\n",
       "      <td>8.131893</td>\n",
       "      <td>8.136709</td>\n",
       "      <td>8.060270</td>\n",
       "      <td>8.070202</td>\n",
       "      <td>429368800</td>\n",
       "    </tr>\n",
       "    <tr>\n",
       "      <th>...</th>\n",
       "      <td>...</td>\n",
       "      <td>...</td>\n",
       "      <td>...</td>\n",
       "      <td>...</td>\n",
       "      <td>...</td>\n",
       "    </tr>\n",
       "    <tr>\n",
       "      <th>2025-02-06</th>\n",
       "      <td>232.963867</td>\n",
       "      <td>233.543232</td>\n",
       "      <td>230.176923</td>\n",
       "      <td>231.035979</td>\n",
       "      <td>29925300</td>\n",
       "    </tr>\n",
       "    <tr>\n",
       "      <th>2025-02-07</th>\n",
       "      <td>227.380005</td>\n",
       "      <td>233.743004</td>\n",
       "      <td>227.010401</td>\n",
       "      <td>232.344548</td>\n",
       "      <td>39707200</td>\n",
       "    </tr>\n",
       "    <tr>\n",
       "      <th>2025-02-10</th>\n",
       "      <td>227.649994</td>\n",
       "      <td>230.589996</td>\n",
       "      <td>227.199997</td>\n",
       "      <td>229.570007</td>\n",
       "      <td>33115600</td>\n",
       "    </tr>\n",
       "    <tr>\n",
       "      <th>2025-02-11</th>\n",
       "      <td>232.619995</td>\n",
       "      <td>235.229996</td>\n",
       "      <td>228.130005</td>\n",
       "      <td>228.199997</td>\n",
       "      <td>53718400</td>\n",
       "    </tr>\n",
       "    <tr>\n",
       "      <th>2025-02-12</th>\n",
       "      <td>236.869995</td>\n",
       "      <td>236.960007</td>\n",
       "      <td>230.679993</td>\n",
       "      <td>231.274994</td>\n",
       "      <td>44964595</td>\n",
       "    </tr>\n",
       "  </tbody>\n",
       "</table>\n",
       "<p>3630 rows × 5 columns</p>\n",
       "</div>"
      ],
      "text/plain": [
       "Price            Close        High         Low        Open     Volume\n",
       "Ticker            AAPL        AAPL        AAPL        AAPL       AAPL\n",
       "Date                                                                 \n",
       "2010-09-09    7.916723    8.020546    7.912210    7.976008  438575200\n",
       "2010-09-10    7.926954    7.959756    7.866465    7.920333  387542400\n",
       "2010-09-13    8.036197    8.073513    7.997678    7.999482  388780000\n",
       "2010-09-14    8.066892    8.100295    7.990454    8.011218  408150400\n",
       "2010-09-15    8.131893    8.136709    8.060270    8.070202  429368800\n",
       "...                ...         ...         ...         ...        ...\n",
       "2025-02-06  232.963867  233.543232  230.176923  231.035979   29925300\n",
       "2025-02-07  227.380005  233.743004  227.010401  232.344548   39707200\n",
       "2025-02-10  227.649994  230.589996  227.199997  229.570007   33115600\n",
       "2025-02-11  232.619995  235.229996  228.130005  228.199997   53718400\n",
       "2025-02-12  236.869995  236.960007  230.679993  231.274994   44964595\n",
       "\n",
       "[3630 rows x 5 columns]"
      ]
     },
     "execution_count": 6,
     "metadata": {},
     "output_type": "execute_result"
    }
   ],
   "source": [
    "columns=['Open', 'High', 'Low', 'Close', 'Adj Close', 'Volume']\n",
    "x = yf.download('AAPL', start='2010-09-09')\n",
    "x"
   ]
  },
  {
   "cell_type": "code",
   "execution_count": 8,
   "metadata": {},
   "outputs": [
    {
     "name": "stderr",
     "output_type": "stream",
     "text": [
      "[*********************100%***********************]  1 of 1 completed\n"
     ]
    }
   ],
   "source": [
    "x = yf.download('VOO', start='2010-09-09', auto_adjust=False,\n",
    "                                 actions=True)"
   ]
  },
  {
   "cell_type": "code",
   "execution_count": 9,
   "metadata": {},
   "outputs": [
    {
     "data": {
      "text/html": [
       "<div>\n",
       "<style scoped>\n",
       "    .dataframe tbody tr th:only-of-type {\n",
       "        vertical-align: middle;\n",
       "    }\n",
       "\n",
       "    .dataframe tbody tr th {\n",
       "        vertical-align: top;\n",
       "    }\n",
       "\n",
       "    .dataframe thead tr th {\n",
       "        text-align: left;\n",
       "    }\n",
       "\n",
       "    .dataframe thead tr:last-of-type th {\n",
       "        text-align: right;\n",
       "    }\n",
       "</style>\n",
       "<table border=\"1\" class=\"dataframe\">\n",
       "  <thead>\n",
       "    <tr>\n",
       "      <th>Price</th>\n",
       "      <th>Adj Close</th>\n",
       "      <th>Capital Gains</th>\n",
       "      <th>Close</th>\n",
       "      <th>Dividends</th>\n",
       "      <th>High</th>\n",
       "      <th>Low</th>\n",
       "      <th>Open</th>\n",
       "      <th>Stock Splits</th>\n",
       "      <th>Volume</th>\n",
       "    </tr>\n",
       "    <tr>\n",
       "      <th>Ticker</th>\n",
       "      <th>VOO</th>\n",
       "      <th>VOO</th>\n",
       "      <th>VOO</th>\n",
       "      <th>VOO</th>\n",
       "      <th>VOO</th>\n",
       "      <th>VOO</th>\n",
       "      <th>VOO</th>\n",
       "      <th>VOO</th>\n",
       "      <th>VOO</th>\n",
       "    </tr>\n",
       "    <tr>\n",
       "      <th>Date</th>\n",
       "      <th></th>\n",
       "      <th></th>\n",
       "      <th></th>\n",
       "      <th></th>\n",
       "      <th></th>\n",
       "      <th></th>\n",
       "      <th></th>\n",
       "      <th></th>\n",
       "      <th></th>\n",
       "    </tr>\n",
       "  </thead>\n",
       "  <tbody>\n",
       "    <tr>\n",
       "      <th>2010-09-09</th>\n",
       "      <td>77.721321</td>\n",
       "      <td>0.0</td>\n",
       "      <td>101.320000</td>\n",
       "      <td>0.0</td>\n",
       "      <td>102.500000</td>\n",
       "      <td>101.139999</td>\n",
       "      <td>102.500000</td>\n",
       "      <td>0.0</td>\n",
       "      <td>26500</td>\n",
       "    </tr>\n",
       "    <tr>\n",
       "      <th>2010-09-10</th>\n",
       "      <td>78.074211</td>\n",
       "      <td>0.0</td>\n",
       "      <td>101.779999</td>\n",
       "      <td>0.0</td>\n",
       "      <td>101.860001</td>\n",
       "      <td>101.300003</td>\n",
       "      <td>101.680000</td>\n",
       "      <td>0.0</td>\n",
       "      <td>8600</td>\n",
       "    </tr>\n",
       "    <tr>\n",
       "      <th>2010-09-13</th>\n",
       "      <td>79.056061</td>\n",
       "      <td>0.0</td>\n",
       "      <td>103.059998</td>\n",
       "      <td>0.0</td>\n",
       "      <td>103.139999</td>\n",
       "      <td>102.500000</td>\n",
       "      <td>102.959999</td>\n",
       "      <td>0.0</td>\n",
       "      <td>33750</td>\n",
       "    </tr>\n",
       "    <tr>\n",
       "      <th>2010-09-14</th>\n",
       "      <td>79.040741</td>\n",
       "      <td>0.0</td>\n",
       "      <td>103.040001</td>\n",
       "      <td>0.0</td>\n",
       "      <td>103.480003</td>\n",
       "      <td>102.379997</td>\n",
       "      <td>102.839996</td>\n",
       "      <td>0.0</td>\n",
       "      <td>59400</td>\n",
       "    </tr>\n",
       "    <tr>\n",
       "      <th>2010-09-15</th>\n",
       "      <td>79.240189</td>\n",
       "      <td>0.0</td>\n",
       "      <td>103.300003</td>\n",
       "      <td>0.0</td>\n",
       "      <td>103.379997</td>\n",
       "      <td>102.400002</td>\n",
       "      <td>102.620003</td>\n",
       "      <td>0.0</td>\n",
       "      <td>9250</td>\n",
       "    </tr>\n",
       "    <tr>\n",
       "      <th>...</th>\n",
       "      <td>...</td>\n",
       "      <td>...</td>\n",
       "      <td>...</td>\n",
       "      <td>...</td>\n",
       "      <td>...</td>\n",
       "      <td>...</td>\n",
       "      <td>...</td>\n",
       "      <td>...</td>\n",
       "      <td>...</td>\n",
       "    </tr>\n",
       "    <tr>\n",
       "      <th>2025-02-06</th>\n",
       "      <td>557.619995</td>\n",
       "      <td>0.0</td>\n",
       "      <td>557.619995</td>\n",
       "      <td>0.0</td>\n",
       "      <td>557.650024</td>\n",
       "      <td>554.190002</td>\n",
       "      <td>557.289978</td>\n",
       "      <td>0.0</td>\n",
       "      <td>3606300</td>\n",
       "    </tr>\n",
       "    <tr>\n",
       "      <th>2025-02-07</th>\n",
       "      <td>552.200012</td>\n",
       "      <td>0.0</td>\n",
       "      <td>552.200012</td>\n",
       "      <td>0.0</td>\n",
       "      <td>559.200012</td>\n",
       "      <td>551.789978</td>\n",
       "      <td>558.099976</td>\n",
       "      <td>0.0</td>\n",
       "      <td>10161600</td>\n",
       "    </tr>\n",
       "    <tr>\n",
       "      <th>2025-02-10</th>\n",
       "      <td>556.150024</td>\n",
       "      <td>0.0</td>\n",
       "      <td>556.150024</td>\n",
       "      <td>0.0</td>\n",
       "      <td>556.780029</td>\n",
       "      <td>554.239990</td>\n",
       "      <td>555.440002</td>\n",
       "      <td>0.0</td>\n",
       "      <td>3517600</td>\n",
       "    </tr>\n",
       "    <tr>\n",
       "      <th>2025-02-11</th>\n",
       "      <td>556.650024</td>\n",
       "      <td>0.0</td>\n",
       "      <td>556.650024</td>\n",
       "      <td>0.0</td>\n",
       "      <td>557.119995</td>\n",
       "      <td>553.989990</td>\n",
       "      <td>554.099976</td>\n",
       "      <td>0.0</td>\n",
       "      <td>2752900</td>\n",
       "    </tr>\n",
       "    <tr>\n",
       "      <th>2025-02-12</th>\n",
       "      <td>554.809998</td>\n",
       "      <td>0.0</td>\n",
       "      <td>554.809998</td>\n",
       "      <td>0.0</td>\n",
       "      <td>555.914978</td>\n",
       "      <td>550.395020</td>\n",
       "      <td>551.000000</td>\n",
       "      <td>0.0</td>\n",
       "      <td>3534464</td>\n",
       "    </tr>\n",
       "  </tbody>\n",
       "</table>\n",
       "<p>3630 rows × 9 columns</p>\n",
       "</div>"
      ],
      "text/plain": [
       "Price        Adj Close Capital Gains       Close Dividends        High  \\\n",
       "Ticker             VOO           VOO         VOO       VOO         VOO   \n",
       "Date                                                                     \n",
       "2010-09-09   77.721321           0.0  101.320000       0.0  102.500000   \n",
       "2010-09-10   78.074211           0.0  101.779999       0.0  101.860001   \n",
       "2010-09-13   79.056061           0.0  103.059998       0.0  103.139999   \n",
       "2010-09-14   79.040741           0.0  103.040001       0.0  103.480003   \n",
       "2010-09-15   79.240189           0.0  103.300003       0.0  103.379997   \n",
       "...                ...           ...         ...       ...         ...   \n",
       "2025-02-06  557.619995           0.0  557.619995       0.0  557.650024   \n",
       "2025-02-07  552.200012           0.0  552.200012       0.0  559.200012   \n",
       "2025-02-10  556.150024           0.0  556.150024       0.0  556.780029   \n",
       "2025-02-11  556.650024           0.0  556.650024       0.0  557.119995   \n",
       "2025-02-12  554.809998           0.0  554.809998       0.0  555.914978   \n",
       "\n",
       "Price              Low        Open Stock Splits    Volume  \n",
       "Ticker             VOO         VOO          VOO       VOO  \n",
       "Date                                                       \n",
       "2010-09-09  101.139999  102.500000          0.0     26500  \n",
       "2010-09-10  101.300003  101.680000          0.0      8600  \n",
       "2010-09-13  102.500000  102.959999          0.0     33750  \n",
       "2010-09-14  102.379997  102.839996          0.0     59400  \n",
       "2010-09-15  102.400002  102.620003          0.0      9250  \n",
       "...                ...         ...          ...       ...  \n",
       "2025-02-06  554.190002  557.289978          0.0   3606300  \n",
       "2025-02-07  551.789978  558.099976          0.0  10161600  \n",
       "2025-02-10  554.239990  555.440002          0.0   3517600  \n",
       "2025-02-11  553.989990  554.099976          0.0   2752900  \n",
       "2025-02-12  550.395020  551.000000          0.0   3534464  \n",
       "\n",
       "[3630 rows x 9 columns]"
      ]
     },
     "execution_count": 9,
     "metadata": {},
     "output_type": "execute_result"
    }
   ],
   "source": [
    "x"
   ]
  },
  {
   "cell_type": "code",
   "execution_count": 19,
   "metadata": {},
   "outputs": [
    {
     "name": "stdout",
     "output_type": "stream",
     "text": [
      "(3630, 1)\n"
     ]
    }
   ],
   "source": [
    "a = x['Adj Close'].values\n",
    "print(a.shape)"
   ]
  },
  {
   "cell_type": "code",
   "execution_count": 22,
   "metadata": {},
   "outputs": [
    {
     "data": {
      "text/plain": [
       "['Adj Close',\n",
       " 'Capital Gains',\n",
       " 'Close',\n",
       " 'Dividends',\n",
       " 'High',\n",
       " 'Low',\n",
       " 'Open',\n",
       " 'Stock Splits',\n",
       " 'Volume']"
      ]
     },
     "execution_count": 22,
     "metadata": {},
     "output_type": "execute_result"
    }
   ],
   "source": [
    "[c for (c, _) in x.columns]"
   ]
  },
  {
   "cell_type": "code",
   "execution_count": 24,
   "metadata": {},
   "outputs": [
    {
     "data": {
      "text/plain": [
       "(3630, 8)"
      ]
     },
     "execution_count": 24,
     "metadata": {},
     "output_type": "execute_result"
    }
   ],
   "source": [
    "cols = [\n",
    " 'Capital Gains',\n",
    " 'Close',\n",
    " 'Dividends',\n",
    " 'High',\n",
    " 'Low',\n",
    " 'Open',\n",
    " 'Stock Splits',\n",
    " 'Volume']\n",
    "v = x[cols].values\n",
    "v.shape"
   ]
  },
  {
   "cell_type": "code",
   "execution_count": 25,
   "metadata": {},
   "outputs": [
    {
     "data": {
      "text/plain": [
       "(3630, 1)"
      ]
     },
     "execution_count": 25,
     "metadata": {},
     "output_type": "execute_result"
    }
   ],
   "source": [
    "x['Adj Close'].values.shape"
   ]
  },
  {
   "cell_type": "code",
   "execution_count": 26,
   "metadata": {},
   "outputs": [
    {
     "name": "stderr",
     "output_type": "stream",
     "text": [
      "[*********************100%***********************]  1 of 1 completed\n"
     ]
    }
   ],
   "source": [
    "x = yf.download('VOO', start='2010-09-09')"
   ]
  },
  {
   "cell_type": "code",
   "execution_count": 27,
   "metadata": {},
   "outputs": [
    {
     "data": {
      "text/plain": [
       "['Close', 'High', 'Low', 'Open', 'Volume']"
      ]
     },
     "execution_count": 27,
     "metadata": {},
     "output_type": "execute_result"
    }
   ],
   "source": [
    "[c for (c, _) in x.columns]"
   ]
  },
  {
   "cell_type": "code",
   "execution_count": 28,
   "metadata": {},
   "outputs": [
    {
     "name": "stderr",
     "output_type": "stream",
     "text": [
      "[*********************100%***********************]  1 of 1 completed\n"
     ]
    },
    {
     "data": {
      "text/html": [
       "<div>\n",
       "<style scoped>\n",
       "    .dataframe tbody tr th:only-of-type {\n",
       "        vertical-align: middle;\n",
       "    }\n",
       "\n",
       "    .dataframe tbody tr th {\n",
       "        vertical-align: top;\n",
       "    }\n",
       "\n",
       "    .dataframe thead tr th {\n",
       "        text-align: left;\n",
       "    }\n",
       "\n",
       "    .dataframe thead tr:last-of-type th {\n",
       "        text-align: right;\n",
       "    }\n",
       "</style>\n",
       "<table border=\"1\" class=\"dataframe\">\n",
       "  <thead>\n",
       "    <tr>\n",
       "      <th>Price</th>\n",
       "      <th>Close</th>\n",
       "      <th>High</th>\n",
       "      <th>Low</th>\n",
       "      <th>Open</th>\n",
       "      <th>Volume</th>\n",
       "    </tr>\n",
       "    <tr>\n",
       "      <th>Ticker</th>\n",
       "      <th>VOO</th>\n",
       "      <th>VOO</th>\n",
       "      <th>VOO</th>\n",
       "      <th>VOO</th>\n",
       "      <th>VOO</th>\n",
       "    </tr>\n",
       "    <tr>\n",
       "      <th>Date</th>\n",
       "      <th></th>\n",
       "      <th></th>\n",
       "      <th></th>\n",
       "      <th></th>\n",
       "      <th></th>\n",
       "    </tr>\n",
       "  </thead>\n",
       "  <tbody>\n",
       "    <tr>\n",
       "      <th>2010-09-09</th>\n",
       "      <td>77.721321</td>\n",
       "      <td>78.626485</td>\n",
       "      <td>77.583245</td>\n",
       "      <td>78.626485</td>\n",
       "      <td>26500</td>\n",
       "    </tr>\n",
       "    <tr>\n",
       "      <th>2010-09-10</th>\n",
       "      <td>78.074226</td>\n",
       "      <td>78.135595</td>\n",
       "      <td>77.706027</td>\n",
       "      <td>77.997519</td>\n",
       "      <td>8600</td>\n",
       "    </tr>\n",
       "    <tr>\n",
       "      <th>2010-09-13</th>\n",
       "      <td>79.056046</td>\n",
       "      <td>79.117414</td>\n",
       "      <td>78.626478</td>\n",
       "      <td>78.979338</td>\n",
       "      <td>33750</td>\n",
       "    </tr>\n",
       "    <tr>\n",
       "      <th>2010-09-14</th>\n",
       "      <td>79.040718</td>\n",
       "      <td>79.378239</td>\n",
       "      <td>78.534437</td>\n",
       "      <td>78.887297</td>\n",
       "      <td>59400</td>\n",
       "    </tr>\n",
       "    <tr>\n",
       "      <th>2010-09-15</th>\n",
       "      <td>79.240166</td>\n",
       "      <td>79.301528</td>\n",
       "      <td>78.549786</td>\n",
       "      <td>78.718546</td>\n",
       "      <td>9250</td>\n",
       "    </tr>\n",
       "    <tr>\n",
       "      <th>...</th>\n",
       "      <td>...</td>\n",
       "      <td>...</td>\n",
       "      <td>...</td>\n",
       "      <td>...</td>\n",
       "      <td>...</td>\n",
       "    </tr>\n",
       "    <tr>\n",
       "      <th>2025-02-06</th>\n",
       "      <td>557.619995</td>\n",
       "      <td>557.650024</td>\n",
       "      <td>554.190002</td>\n",
       "      <td>557.289978</td>\n",
       "      <td>3606300</td>\n",
       "    </tr>\n",
       "    <tr>\n",
       "      <th>2025-02-07</th>\n",
       "      <td>552.200012</td>\n",
       "      <td>559.200012</td>\n",
       "      <td>551.789978</td>\n",
       "      <td>558.099976</td>\n",
       "      <td>10161600</td>\n",
       "    </tr>\n",
       "    <tr>\n",
       "      <th>2025-02-10</th>\n",
       "      <td>556.150024</td>\n",
       "      <td>556.780029</td>\n",
       "      <td>554.239990</td>\n",
       "      <td>555.440002</td>\n",
       "      <td>3517600</td>\n",
       "    </tr>\n",
       "    <tr>\n",
       "      <th>2025-02-11</th>\n",
       "      <td>556.650024</td>\n",
       "      <td>557.119995</td>\n",
       "      <td>553.989990</td>\n",
       "      <td>554.099976</td>\n",
       "      <td>2752900</td>\n",
       "    </tr>\n",
       "    <tr>\n",
       "      <th>2025-02-12</th>\n",
       "      <td>554.809998</td>\n",
       "      <td>555.914978</td>\n",
       "      <td>550.395020</td>\n",
       "      <td>551.000000</td>\n",
       "      <td>3534464</td>\n",
       "    </tr>\n",
       "  </tbody>\n",
       "</table>\n",
       "<p>3630 rows × 5 columns</p>\n",
       "</div>"
      ],
      "text/plain": [
       "Price            Close        High         Low        Open    Volume\n",
       "Ticker             VOO         VOO         VOO         VOO       VOO\n",
       "Date                                                                \n",
       "2010-09-09   77.721321   78.626485   77.583245   78.626485     26500\n",
       "2010-09-10   78.074226   78.135595   77.706027   77.997519      8600\n",
       "2010-09-13   79.056046   79.117414   78.626478   78.979338     33750\n",
       "2010-09-14   79.040718   79.378239   78.534437   78.887297     59400\n",
       "2010-09-15   79.240166   79.301528   78.549786   78.718546      9250\n",
       "...                ...         ...         ...         ...       ...\n",
       "2025-02-06  557.619995  557.650024  554.190002  557.289978   3606300\n",
       "2025-02-07  552.200012  559.200012  551.789978  558.099976  10161600\n",
       "2025-02-10  556.150024  556.780029  554.239990  555.440002   3517600\n",
       "2025-02-11  556.650024  557.119995  553.989990  554.099976   2752900\n",
       "2025-02-12  554.809998  555.914978  550.395020  551.000000   3534464\n",
       "\n",
       "[3630 rows x 5 columns]"
      ]
     },
     "execution_count": 28,
     "metadata": {},
     "output_type": "execute_result"
    }
   ],
   "source": [
    "yf.download('VOO', start='2010-09-09')"
   ]
  },
  {
   "cell_type": "code",
   "execution_count": 29,
   "metadata": {},
   "outputs": [],
   "source": [
    "import torch\n",
    "x = torch.tensor([1.0])"
   ]
  },
  {
   "cell_type": "code",
   "execution_count": 31,
   "metadata": {},
   "outputs": [
    {
     "data": {
      "text/plain": [
       "tensor([1.])"
      ]
     },
     "execution_count": 31,
     "metadata": {},
     "output_type": "execute_result"
    }
   ],
   "source": [
    "x[0].unsqueeze(-1)"
   ]
  },
  {
   "cell_type": "code",
   "execution_count": 32,
   "metadata": {},
   "outputs": [
    {
     "data": {
      "text/plain": [
       "tensor(1.)"
      ]
     },
     "execution_count": 32,
     "metadata": {},
     "output_type": "execute_result"
    }
   ],
   "source": [
    "x[0]"
   ]
  },
  {
   "cell_type": "code",
   "execution_count": 33,
   "metadata": {},
   "outputs": [],
   "source": [
    "x = torch.tensor([1.0, 2.0])"
   ]
  },
  {
   "cell_type": "code",
   "execution_count": 34,
   "metadata": {},
   "outputs": [
    {
     "data": {
      "text/plain": [
       "tensor([[1.],\n",
       "        [2.]])"
      ]
     },
     "execution_count": 34,
     "metadata": {},
     "output_type": "execute_result"
    }
   ],
   "source": [
    "x.unsqueeze(-1)"
   ]
  },
  {
   "cell_type": "code",
   "execution_count": null,
   "metadata": {},
   "outputs": [],
   "source": [
    "x.unsqueeze(-1)."
   ]
  }
 ],
 "metadata": {
  "kernelspec": {
   "display_name": "modelenv",
   "language": "python",
   "name": "python3"
  },
  "language_info": {
   "codemirror_mode": {
    "name": "ipython",
    "version": 3
   },
   "file_extension": ".py",
   "mimetype": "text/x-python",
   "name": "python",
   "nbconvert_exporter": "python",
   "pygments_lexer": "ipython3",
   "version": "3.12.8"
  }
 },
 "nbformat": 4,
 "nbformat_minor": 2
}
