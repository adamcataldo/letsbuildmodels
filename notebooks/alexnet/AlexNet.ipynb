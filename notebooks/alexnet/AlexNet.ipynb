{
 "cells": [
  {
   "cell_type": "markdown",
   "id": "3917a945-5766-41f6-9747-9e93afeccc15",
   "metadata": {},
   "source": [
    "# AlexNet\n",
    "\n",
    "This notebook is going to play around with the AlexNet network, which was considered a major breakthrough in computer vision when published in 2012. See\n",
    "\n",
    "Alex Krizhevsky, Ilya Sutskever, and Geoffrey E. Hinton. 2017. ImageNet classification with deep convolutional neural networks. Commun. ACM 60, 6 (June 2017), 84–90. [https://doi.org/10.1145/3065386](https://doi.org/10.1145/3065386)"
   ]
  },
  {
   "cell_type": "code",
   "execution_count": 1,
   "id": "64d82bff-3cb3-4122-88ad-786a9c687e2a",
   "metadata": {},
   "outputs": [],
   "source": [
    "# import statements\n",
    "from letsbuildmodels import devices\n",
    "import matplotlib.pyplot as plt\n",
    "import numpy as np\n",
    "import torch\n",
    "import torch.nn as nn\n",
    "import torch.optim as optim\n",
    "from torch.utils.data import DataLoader\n",
    "from torchvision import datasets\n",
    "from torchvision import models\n",
    "from torchvision.transforms import v2"
   ]
  },
  {
   "cell_type": "code",
   "execution_count": 2,
   "id": "c30c7d76-c8e8-4750-8e62-0115a26d2aae",
   "metadata": {},
   "outputs": [
    {
     "name": "stdout",
     "output_type": "stream",
     "text": [
      "Using mps device\n"
     ]
    }
   ],
   "source": [
    "# Setup\n",
    "device = devices.get_device()\n",
    "print(f\"Using {device} device\")"
   ]
  },
  {
   "cell_type": "markdown",
   "id": "96520e48-3492-452d-9c27-f091884e1d80",
   "metadata": {},
   "source": [
    "## The data set\n",
    "\n",
    "Before we get to AlexNet, we're going to start with a simple data set, much simpler than the one used in AlexNet. The reason for using a different data set for starting is mostly performance. The data set used for AlexNet was quite large, and it's overkill for the initial models we'll build. We'll move to the full data set later, and keep tweaking from there.\n",
    "\n",
    "Note: there are two downloads you'll need in your working directory, described in the code below."
   ]
  },
  {
   "cell_type": "code",
   "execution_count": 3,
   "id": "d62f730e-2436-4808-8b26-357decb82df7",
   "metadata": {},
   "outputs": [
    {
     "name": "stdout",
     "output_type": "stream",
     "text": [
      "bee_index: 309\n",
      "ant_index: 310\n"
     ]
    }
   ],
   "source": [
    "# Imagenet classes downloaded from\n",
    "# https://raw.githubusercontent.com/pytorch/hub/master/imagenet_classes.txt\n",
    "with open(\"imagenet_classes.txt\", 'r') as file:\n",
    "    lines = [line.strip() for line in file]\n",
    "bee_index = lines.index(\"bee\")\n",
    "ant_index = lines.index(\"ant\")\n",
    "\n",
    "print(f\"bee_index: {bee_index}\")\n",
    "print(f\"ant_index: {ant_index}\")"
   ]
  },
  {
   "cell_type": "code",
   "execution_count": 4,
   "id": "8963e558-178c-46fc-bfc4-07f0d8732207",
   "metadata": {},
   "outputs": [
    {
     "name": "stdout",
     "output_type": "stream",
     "text": [
      "Number of training samples: 244\n",
      "Number of testing samples: 153\n"
     ]
    }
   ],
   "source": [
    "# Data downloaded from https://www.kaggle.com/datasets/ajayrana/hymenoptera-data\n",
    "ddir = 'hymenoptera_data'\n",
    "\n",
    "train_transformers = v2.Compose([\n",
    "    v2.ToImage(),\n",
    "    v2.RandomResizedCrop(224),\n",
    "    v2.RandomHorizontalFlip(),\n",
    "    v2.ToDtype(torch.float32),\n",
    "    v2.Normalize(mean=[0.485, 0.456, 0.406], std=[0.229, 0.224, 0.225]),\n",
    "])\n",
    "test_transformers = v2.Compose([\n",
    "    v2.ToImage(),\n",
    "    v2.CenterCrop(224),\n",
    "    v2.ToDtype(torch.float32),\n",
    "    v2.Normalize(mean=[0.485, 0.456, 0.406], std=[0.229, 0.224, 0.225]),\n",
    "])\n",
    "\n",
    "class TargetTransformer:\n",
    "    def __call__(self, target):\n",
    "        one_hot = torch.zeros(1000, dtype=torch.float32)\n",
    "        if target == 0:\n",
    "            one_hot[ant_index] = 1.0\n",
    "        else:\n",
    "            one_hot[bee_index] = 1.0\n",
    "        return one_hot\n",
    "\n",
    "\n",
    "train_dataset = datasets.ImageFolder(\n",
    "    f\"{ddir}/train\",\n",
    "    transform=train_transformers,\n",
    "    target_transform=TargetTransformer(),\n",
    ")\n",
    "test_dataset = datasets.ImageFolder(\n",
    "    f\"{ddir}/val\",\n",
    "    transform=test_transformers,\n",
    "    target_transform=TargetTransformer(),\n",
    ")\n",
    "\n",
    "train_loader = DataLoader(train_dataset, batch_size=64, shuffle=True)\n",
    "test_loader = DataLoader(test_dataset, batch_size=64, shuffle=True)\n",
    "    \n",
    "print(f\"Number of training samples: {len(train_dataset)}\")\n",
    "print(f\"Number of testing samples: {len(test_dataset)}\")"
   ]
  },
  {
   "cell_type": "markdown",
   "id": "da12762c-36c6-4171-b1c4-fd9c60adaa48",
   "metadata": {},
   "source": [
    "## Using the pre-trained model as-is\n",
    "\n",
    "PyTorch has a built-in AlexNet model. Let's download it, and see how it works as-is."
   ]
  },
  {
   "cell_type": "code",
   "execution_count": 5,
   "id": "361e6ef7-77af-49fa-b89f-1b74fc146201",
   "metadata": {},
   "outputs": [
    {
     "name": "stdout",
     "output_type": "stream",
     "text": [
      "AlexNet(\n",
      "  (features): Sequential(\n",
      "    (0): Conv2d(3, 64, kernel_size=(11, 11), stride=(4, 4), padding=(2, 2))\n",
      "    (1): ReLU(inplace=True)\n",
      "    (2): MaxPool2d(kernel_size=3, stride=2, padding=0, dilation=1, ceil_mode=False)\n",
      "    (3): Conv2d(64, 192, kernel_size=(5, 5), stride=(1, 1), padding=(2, 2))\n",
      "    (4): ReLU(inplace=True)\n",
      "    (5): MaxPool2d(kernel_size=3, stride=2, padding=0, dilation=1, ceil_mode=False)\n",
      "    (6): Conv2d(192, 384, kernel_size=(3, 3), stride=(1, 1), padding=(1, 1))\n",
      "    (7): ReLU(inplace=True)\n",
      "    (8): Conv2d(384, 256, kernel_size=(3, 3), stride=(1, 1), padding=(1, 1))\n",
      "    (9): ReLU(inplace=True)\n",
      "    (10): Conv2d(256, 256, kernel_size=(3, 3), stride=(1, 1), padding=(1, 1))\n",
      "    (11): ReLU(inplace=True)\n",
      "    (12): MaxPool2d(kernel_size=3, stride=2, padding=0, dilation=1, ceil_mode=False)\n",
      "  )\n",
      "  (avgpool): AdaptiveAvgPool2d(output_size=(6, 6))\n",
      "  (classifier): Sequential(\n",
      "    (0): Dropout(p=0.5, inplace=False)\n",
      "    (1): Linear(in_features=9216, out_features=4096, bias=True)\n",
      "    (2): ReLU(inplace=True)\n",
      "    (3): Dropout(p=0.5, inplace=False)\n",
      "    (4): Linear(in_features=4096, out_features=4096, bias=True)\n",
      "    (5): ReLU(inplace=True)\n",
      "    (6): Linear(in_features=4096, out_features=1000, bias=True)\n",
      "  )\n",
      ")\n"
     ]
    }
   ],
   "source": [
    "model = models.alexnet(weights='IMAGENET1K_V1')\n",
    "model.to(device)\n",
    "print(model)"
   ]
  },
  {
   "cell_type": "code",
   "execution_count": 6,
   "id": "62a049ad-fe7e-48e3-9538-a88b5e5d9cae",
   "metadata": {},
   "outputs": [
    {
     "name": "stdout",
     "output_type": "stream",
     "text": [
      "Accuracy: 0.00%\n"
     ]
    }
   ],
   "source": [
    "def test():\n",
    "    model.eval()\n",
    "    correct = 0\n",
    "    total = 0\n",
    "\n",
    "    with torch.no_grad():\n",
    "        for inputs, labels in test_loader:\n",
    "            inputs, labels = inputs.to(device), labels.to(device)\n",
    "            outputs = model(inputs)\n",
    "\n",
    "            max_indices = torch.argmax(outputs, dim=1)\n",
    "            predicted = torch.zeros_like(outputs)\n",
    "            predicted.scatter_(1, max_indices.unsqueeze(1), 1)            \n",
    "            total += labels.size(0)\n",
    "            correct += (predicted == labels).all(dim=1).int().sum().item()\n",
    "    accuracy = correct / total\n",
    "    print(f\"Accuracy: {accuracy:.2%}\")\n",
    "\n",
    "test()"
   ]
  },
  {
   "cell_type": "markdown",
   "id": "36d54cf6-bfa3-41b9-83dc-2802887df0bd",
   "metadata": {},
   "source": [
    "## Retraining the model\n",
    "\n",
    "The pre-trained model is quite useless on the images we gave it. Let's try re-training the model, to see if we can improve it's peformance."
   ]
  },
  {
   "cell_type": "code",
   "execution_count": 7,
   "id": "cbaeef33-99da-4077-b658-c4c1493117b2",
   "metadata": {},
   "outputs": [
    {
     "name": "stdout",
     "output_type": "stream",
     "text": [
      "Epoch: 40 / 40 "
     ]
    },
    {
     "data": {
      "image/png": "[encoded data removed]",
      "text/plain": [
       "<Figure size 640x480 with 1 Axes>"
      ]
     },
     "metadata": {},
     "output_type": "display_data"
    }
   ],
   "source": [
    "epochs = 40\n",
    "learning_rate = 0.01\n",
    "momentum = 0.9\n",
    "weight_decay = 0.0005\n",
    "criterion = nn.CrossEntropyLoss()\n",
    "\n",
    "def train_and_plot(model, train_loader, criterion):\n",
    "    model.train()\n",
    "\n",
    "    optimizer = optim.SGD(model.parameters(), lr=learning_rate, momentum=momentum, weight_decay=weight_decay)\n",
    "\n",
    "    x = np.arange(1, epochs + 1)\n",
    "    y = np.zeros(epochs)\n",
    "\n",
    "    print(\"Epoch:  0 / 40 \", end=\"\\r\")\n",
    "\n",
    "    last_loss = float('inf')\n",
    "    \n",
    "    for epoch in range(epochs):\n",
    "        epoch_loss = 0.0\n",
    "\n",
    "        for inputs, targets in train_loader:\n",
    "            inputs, targets = inputs.to(device), targets.to(device)\n",
    "            predictions = model(inputs)\n",
    "            loss = criterion(predictions, targets)\n",
    "            optimizer.zero_grad()\n",
    "            loss.backward()\n",
    "            optimizer.step()\n",
    "            epoch_loss += loss.item()\n",
    "        y[epoch] = epoch_loss\n",
    "        print(f\"Epoch: {epoch + 1:2} / 40\", end = \"\\r\")\n",
    "\n",
    "        if epoch_loss >= last_loss:\n",
    "            # Reduce learning rate by a factor of 10 if loss didn't improve\n",
    "            for param_group in optimizer.param_groups:\n",
    "                param_group['lr'] /= 10\n",
    "        last_loss = epoch_loss\n",
    "\n",
    "    fig, ax = plt.subplots()\n",
    "    ax.plot(x, y)\n",
    "    ax.set_xlabel(\"Epoch\")\n",
    "    ax.set_ylabel(\"Loss\")\n",
    "    plt.show()\n",
    "\n",
    "train_and_plot(model, train_loader, criterion)"
   ]
  },
  {
   "cell_type": "markdown",
   "id": "5a46e034-d32c-47f5-8e42-ec670a2d5e69",
   "metadata": {},
   "source": [
    "Now let's see how it does."
   ]
  },
  {
   "cell_type": "code",
   "execution_count": 8,
   "id": "42fcd134-ac05-487f-a198-8ffe04d2948c",
   "metadata": {},
   "outputs": [
    {
     "name": "stdout",
     "output_type": "stream",
     "text": [
      "Accuracy: 54.25%\n"
     ]
    }
   ],
   "source": [
    "test()"
   ]
  },
  {
   "cell_type": "markdown",
   "id": "c7502fae-1307-4774-a7ab-6e190e306cf8",
   "metadata": {},
   "source": [
    "Clearly a small amount of retraining made a big performance boost."
   ]
  }
 ],
 "metadata": {
  "kernelspec": {
   "display_name": "Python 3 (ipykernel)",
   "language": "python",
   "name": "python3"
  },
  "language_info": {
   "codemirror_mode": {
    "name": "ipython",
    "version": 3
   },
   "file_extension": ".py",
   "mimetype": "text/x-python",
   "name": "python",
   "nbconvert_exporter": "python",
   "pygments_lexer": "ipython3",
   "version": "3.12.8"
  }
 },
 "nbformat": 4,
 "nbformat_minor": 5
}
