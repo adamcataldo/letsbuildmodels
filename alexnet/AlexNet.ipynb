{
 "cells": [
  {
   "cell_type": "markdown",
   "id": "3917a945-5766-41f6-9747-9e93afeccc15",
   "metadata": {},
   "source": [
    "# From Zero to AlexNet\n",
    "\n",
    "This notebook is going to start with a simple neural network, and then make a series of enhancements to improve the networks's performance. By the end of this notebook, we will have constructed the AlexNet network, which was considered a major breakthrough in computer vision when published in 2012. Many of the ideas of that network are still in use today.\n",
    "\n",
    "Alex Krizhevsky, Ilya Sutskever, and Geoffrey E. Hinton. 2017. ImageNet classification with deep convolutional neural networks. Commun. ACM 60, 6 (June 2017), 84–90. [https://doi.org/10.1145/3065386](https://doi.org/10.1145/3065386)\n"
   ]
  },
  {
   "cell_type": "code",
   "execution_count": 64,
   "id": "64d82bff-3cb3-4122-88ad-786a9c687e2a",
   "metadata": {},
   "outputs": [],
   "source": [
    "# import statements\n",
    "import ipywidgets as widgets\n",
    "import matplotlib.pyplot as plt\n",
    "import torch\n",
    "import torch.nn as nn\n",
    "import torch.optim as optim\n",
    "from torch.utils.data import DataLoader\n",
    "from torch.utils.data import random_split\n",
    "from torchvision import datasets\n",
    "from torchvision.transforms import Lambda, ToTensor"
   ]
  },
  {
   "cell_type": "markdown",
   "id": "96520e48-3492-452d-9c27-f091884e1d80",
   "metadata": {},
   "source": [
    "## The data set\n",
    "\n",
    "Before we get to AlexNet, we're going to start with a simple data set, much simpler than the one used in AlexNet. The reason for using a different data set for starting is mostly performance. The data set used for AlexNet was quite large, and it's overkill for the initial models we'll build. We'll move to the full data set later, and keep tweaking from there."
   ]
  },
  {
   "cell_type": "code",
   "execution_count": 61,
   "id": "8963e558-178c-46fc-bfc4-07f0d8732207",
   "metadata": {},
   "outputs": [
    {
     "name": "stdout",
     "output_type": "stream",
     "text": [
      "Using mps device\n",
      "Number of training samples: 50000\n",
      "Number of validation samples: 10000\n",
      "Number of test samples: 10000\n"
     ]
    }
   ],
   "source": [
    "device = (\n",
    "    \"cuda\"\n",
    "    if torch.cuda.is_available()\n",
    "    else \"mps\"\n",
    "    if torch.backends.mps.is_available()\n",
    "    else \"cpu\"\n",
    ")\n",
    "print(f\"Using {device} device\")\n",
    "\n",
    "full_training_data = datasets.FashionMNIST(\n",
    "    root=\"data\",\n",
    "    train=True,\n",
    "    download=True,\n",
    "    transform=ToTensor(),\n",
    "    target_transform=Lambda(lambda y: torch.zeros(10, dtype=torch.float).scatter_(0, torch.tensor(y), value=1))\n",
    ")\n",
    "\n",
    "train_size = 50000\n",
    "validation_size = 10000\n",
    "train_data, validation_data = random_split(full_training_data, [train_size, val_size])\n",
    "\n",
    "test_data = datasets.FashionMNIST(\n",
    "    root=\"data\",\n",
    "    train=False,\n",
    "    download=True,\n",
    "    transform=ToTensor(),\n",
    "    target_transform=Lambda(lambda y: torch.zeros(10, dtype=torch.float).scatter_(0, torch.tensor(y), value=1))\n",
    ")\n",
    "\n",
    "train_loader = DataLoader(\n",
    "    dataset=train_data,\n",
    "    batch_size=64,  # Number of samples per batch\n",
    "    shuffle=True    # Shuffle training data\n",
    ")\n",
    "\n",
    "validation_loader = DataLoader(\n",
    "    dataset=validation_data,\n",
    "    batch_size=64,  # Number of samples per batch\n",
    "    shuffle=True    # Shuffle training data\n",
    ")\n",
    "\n",
    "test_loader = DataLoader(\n",
    "    dataset=test_data,\n",
    "    batch_size=64,\n",
    "    shuffle=False  # No need to shuffle test data\n",
    ")\n",
    "\n",
    "print(f\"Number of training samples: {len(train_data)}\")\n",
    "print(f\"Number of validation samples: {len(validation_data)}\")\n",
    "print(f\"Number of test samples: {len(test_data)}\")"
   ]
  },
  {
   "cell_type": "markdown",
   "id": "78d1a83f-492e-45df-b7ed-fb24532987a3",
   "metadata": {},
   "source": [
    "Let's take a peak at what the data looks like. Each feature is a 28x28 grayscale image. Each label is a value from 0 to 9, representing things like \"Dress\" and \"Bag\"."
   ]
  },
  {
   "cell_type": "code",
   "execution_count": 33,
   "id": "4fa0b81c-9dda-4ef2-9df3-8430204667ad",
   "metadata": {},
   "outputs": [
    {
     "data": {
      "text/plain": [
       "Text(0.5, 1.0, 'Sneaker')"
      ]
     },
     "execution_count": 33,
     "metadata": {},
     "output_type": "execute_result"
    },
    {
     "data": {
      "image/png": "[encoded data removed]",
      "text/plain": [
       "<Figure size 640x480 with 1 Axes>"
      ]
     },
     "metadata": {},
     "output_type": "display_data"
    }
   ],
   "source": [
    "img, label = training_data[6]\n",
    "plt.imshow(img.squeeze(), cmap=\"gray\")\n",
    "labels_map = {\n",
    "    0: \"T-Shirt\",\n",
    "    1: \"Trouser\",\n",
    "    2: \"Pullover\",\n",
    "    3: \"Dress\",\n",
    "    4: \"Coat\",\n",
    "    5: \"Sandal\",\n",
    "    6: \"Shirt\",\n",
    "    7: \"Sneaker\",\n",
    "    8: \"Bag\",\n",
    "    9: \"Ankle Boot\",\n",
    "}\n",
    "plt.title(labels_map[label])"
   ]
  },
  {
   "cell_type": "markdown",
   "id": "da12762c-36c6-4171-b1c4-fd9c60adaa48",
   "metadata": {},
   "source": [
    "## Linear Regression\n",
    "\n",
    "The simplest neural network we can create is linear regression. Each 28x28 image gets converted to a length 784 vector $x$, with each value corresponding to a single pixel value. These are the inputs to the neural network. Each label gets converted to a length 10 vector $y$, where each value is zero except for the index corresponding to the label. That value is one. This encoding scheme is known as *one-hot encoding*. The model we then use is\n",
    "\n",
    "$$\n",
    "y = W^T x + b\n",
    "$$\n",
    "\n",
    "$W$ and $b$ are the parameter of the model that the neural net estimates. $W$ is length 784x10 vector of parameters, and $b$ is a length 10 vector of biases."
   ]
  },
  {
   "cell_type": "code",
   "execution_count": 46,
   "id": "361e6ef7-77af-49fa-b89f-1b74fc146201",
   "metadata": {},
   "outputs": [
    {
     "name": "stdout",
     "output_type": "stream",
     "text": [
      "LinearRegression(\n",
      "  (linear): Linear(in_features=784, out_features=10, bias=True)\n",
      ")\n"
     ]
    }
   ],
   "source": [
    "input_size = 28 * 28\n",
    "output_size = 10\n",
    "\n",
    "class LinearRegression(nn.Module):\n",
    "    def __init__(self, input_size, output_size):\n",
    "        super(LinearRegression, self).__init__()\n",
    "        self.linear = nn.Linear(input_size, output_size)\n",
    "    \n",
    "    def forward(self, x):\n",
    "        x = x.view(x.size(0), -1)\n",
    "        x = self.linear(x)\n",
    "        return x\n",
    "\n",
    "linear_model = LinearRegression(input_size, output_size)\n",
    "linear_model.to(device)\n",
    "print(linear_model)"
   ]
  },
  {
   "cell_type": "markdown",
   "id": "36d54cf6-bfa3-41b9-83dc-2802887df0bd",
   "metadata": {},
   "source": [
    "## Stochastic Gradient Descent\n",
    "\n",
    "[Stochastic Gradient Descent (SGD)](https://en.wikipedia.org/wiki/Stochastic_gradient_descent) is an optimization technique used in machine learning to train models by minimizing a *loss function*. Instead of using the entire dataset at once, SGD updates the model's parameters (its weights) by computing gradients based on smaller subsets of data called batches. The size of each batch, known as the *batch size*, determines how many data points are used per update. An *epoch* is one complete pass through the entire dataset. The size of each step taken during the optimization process is controlled by the *learning rate*, which determines how much the parameters are adjusted in response to the gradient. To improve convergence, *momentum* is often added, which helps the optimization process move faster by maintaining some influence from the previous update, smoothing out the learning process. *Weight decay* is a regularization technique that discourages overly large weights by adding a small penalty to the loss function, which helps prevent overfitting. Together, these concepts allow SGD to efficiently learn from data and adjust the model to perform better on unseen examples.\n",
    "\n",
    "The standard loss function for linear regression is the *mean square error (MSE)*. For a set of labels $\\{y_1, \\ldots, y_n\\}$, and an estimated set of of labels $\\{\\hat{y}_1, \\ldots, \\hat{y}_n\\}$, the MSE is\n",
    "\n",
    "$$\n",
    "MSE(\\{y_1, \\ldots, y_n\\}, \\{\\hat{y}_1, \\ldots, \\hat{y}_n\\}) = \\frac{1}{nd} \\sum_{i=1}^n \\| y_i - \\hat{y}_i \\|^2.\n",
    "$$\n",
    "\n",
    "Here $n$ is the batch size, and $d$ is the number of output dimensions.\n"
   ]
  },
  {
   "cell_type": "code",
   "execution_count": 66,
   "id": "cbaeef33-99da-4077-b658-c4c1493117b2",
   "metadata": {},
   "outputs": [
    {
     "data": {
      "application/vnd.jupyter.widget-view+json": {
       "model_id": "135c10208c134bc1b54177e9d8c56c6d",
       "version_major": 2,
       "version_minor": 0
      },
      "text/plain": [
       "IntProgress(value=0, bar_style='success', description='Progress:', max=40, style=ProgressStyle(bar_color='gree…"
      ]
     },
     "metadata": {},
     "output_type": "display_data"
    }
   ],
   "source": [
    "def train_model(model, train_loader):\n",
    "    model.train()\n",
    "    epochs = 40\n",
    "    learning_rate = 0.01\n",
    "    momentum = 0.9\n",
    "    weight_decay = 0.0005\n",
    "\n",
    "    criterion = nn.MSELoss()\n",
    "    optimizer = optim.SGD(model.parameters(), lr=learning_rate, momentum=momentum, weight_decay=weight_decay)\n",
    "\n",
    "    # Progress bar\n",
    "    my_pb = widgets.IntProgress(\n",
    "        value=0,\n",
    "        min=0,\n",
    "        max=epochs,\n",
    "        description='Progress:',\n",
    "        bar_style= 'success',\n",
    "        style={'bar_color': 'green'},\n",
    "        orientation='horizontal'\n",
    "    )\n",
    "    display(my_pb)\n",
    "\n",
    "    \n",
    "    # Training loop\n",
    "    for epoch in range(epochs):\n",
    "        epoch_loss = 0.0\n",
    "\n",
    "        for inputs, targets in train_loader:\n",
    "            inputs, targets = inputs.to(device), targets.to(device)\n",
    "            predictions = model(inputs)\n",
    "            loss = criterion(predictions, targets)\n",
    "            optimizer.zero_grad()\n",
    "            loss.backward()\n",
    "            optimizer.step()\n",
    "            epoch_loss += loss.item()\n",
    "\n",
    "        my_pb.value = my_pb.value + 1\n",
    "\n",
    "train_model(linear_model, train_loader)"
   ]
  },
  {
   "cell_type": "markdown",
   "id": "f997d372-8ff9-4c81-860e-f5742043ae2f",
   "metadata": {},
   "source": [
    "## Softmax Regression"
   ]
  },
  {
   "cell_type": "markdown",
   "id": "c49b2c7c-2fe7-4b53-8597-b487014500bd",
   "metadata": {},
   "source": [
    "## Hidden Layers with ReLU"
   ]
  },
  {
   "cell_type": "markdown",
   "id": "31508584-efa6-47b7-b683-7657c9fe3679",
   "metadata": {},
   "source": [
    "## Convolutional Layers"
   ]
  },
  {
   "cell_type": "markdown",
   "id": "be9c4fbc-0af5-41c9-9f1c-9041021c9152",
   "metadata": {},
   "source": [
    "## Max Pooling"
   ]
  },
  {
   "cell_type": "markdown",
   "id": "aa41eee5-070a-4d92-99da-99b79f88b3ba",
   "metadata": {},
   "source": [
    "## Overlapping Max Pooling"
   ]
  },
  {
   "cell_type": "markdown",
   "id": "5730d17d-84c5-448e-acc1-6c52e5d3535e",
   "metadata": {},
   "source": [
    "## Data Augmentation"
   ]
  },
  {
   "cell_type": "markdown",
   "id": "f247dfb6-bbc1-4c1a-8a26-3c1b010df3a0",
   "metadata": {},
   "source": [
    "## Dropout"
   ]
  },
  {
   "cell_type": "markdown",
   "id": "4cceb549-ed14-4d95-b2ba-33cbfe09268c",
   "metadata": {},
   "source": [
    "## Adaptive Learning Rate"
   ]
  },
  {
   "cell_type": "markdown",
   "id": "76db12c8-ca2f-44fe-b973-b89140612544",
   "metadata": {},
   "source": [
    "## A Larger Model"
   ]
  },
  {
   "cell_type": "markdown",
   "id": "3c8cb349-7339-40f6-9001-7b568a6bae6b",
   "metadata": {},
   "source": [
    "## A Larger Dataset"
   ]
  }
 ],
 "metadata": {
  "kernelspec": {
   "display_name": "Python 3 (ipykernel)",
   "language": "python",
   "name": "python3"
  },
  "language_info": {
   "codemirror_mode": {
    "name": "ipython",
    "version": 3
   },
   "file_extension": ".py",
   "mimetype": "text/x-python",
   "name": "python",
   "nbconvert_exporter": "python",
   "pygments_lexer": "ipython3",
   "version": "3.12.8"
  }
 },
 "nbformat": 4,
 "nbformat_minor": 5
}
