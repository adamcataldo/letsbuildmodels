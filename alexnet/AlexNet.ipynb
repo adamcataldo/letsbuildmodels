{
 "cells": [
  {
   "cell_type": "markdown",
   "id": "3917a945-5766-41f6-9747-9e93afeccc15",
   "metadata": {},
   "source": [
    "# AlexNet\n",
    "\n",
    "This notebook is going to play around with the AlexNet network, which was considered a major breakthrough in computer vision when published in 2012. See\n",
    "\n",
    "Alex Krizhevsky, Ilya Sutskever, and Geoffrey E. Hinton. 2017. ImageNet classification with deep convolutional neural networks. Commun. ACM 60, 6 (June 2017), 84–90. [https://doi.org/10.1145/3065386](https://doi.org/10.1145/3065386)"
   ]
  },
  {
   "cell_type": "code",
   "execution_count": 7,
   "id": "64d82bff-3cb3-4122-88ad-786a9c687e2a",
   "metadata": {},
   "outputs": [],
   "source": [
    "# import statements\n",
    "import matplotlib.pyplot as plt\n",
    "import numpy as np\n",
    "import torch\n",
    "import torch.nn as nn\n",
    "import torch.optim as optim\n",
    "from torch.utils.data import DataLoader\n",
    "from torchvision import datasets\n",
    "from torchvision.transforms import v2"
   ]
  },
  {
   "cell_type": "code",
   "execution_count": 8,
   "id": "c30c7d76-c8e8-4750-8e62-0115a26d2aae",
   "metadata": {},
   "outputs": [
    {
     "name": "stdout",
     "output_type": "stream",
     "text": [
      "Using mps device\n"
     ]
    }
   ],
   "source": [
    "# Setup\n",
    "device = (\n",
    "    \"cuda\"\n",
    "    if torch.cuda.is_available()\n",
    "    else \"mps\"\n",
    "    if torch.backends.mps.is_available()\n",
    "    else \"cpu\"\n",
    ")\n",
    "print(f\"Using {device} device\")\n",
    "\n",
    "# Utility used to help with GPU memory management\n",
    "def empty_cache():\n",
    "    if device == \"cuda\":\n",
    "        torch.cuda.empty_cache()\n",
    "    elif device == \"mps\":\n",
    "        torch.mps.empty_cache()"
   ]
  },
  {
   "cell_type": "markdown",
   "id": "96520e48-3492-452d-9c27-f091884e1d80",
   "metadata": {},
   "source": [
    "## The data set\n",
    "\n",
    "Before we get to AlexNet, we're going to start with a simple data set, much simpler than the one used in AlexNet. The reason for using a different data set for starting is mostly performance. The data set used for AlexNet was quite large, and it's overkill for the initial models we'll build. We'll move to the full data set later, and keep tweaking from there.\n",
    "\n",
    "Note: there are two downloads you'll need in your working directory, described in the code below."
   ]
  },
  {
   "cell_type": "code",
   "execution_count": 3,
   "id": "8963e558-178c-46fc-bfc4-07f0d8732207",
   "metadata": {},
   "outputs": [
    {
     "name": "stdout",
     "output_type": "stream",
     "text": [
      "Number of training samples: 50000\n",
      "Number of validation samples: 10000\n",
      "Number of test samples: 10000\n"
     ]
    }
   ],
   "source": [
    "# Data downloaded from https://www.kaggle.com/datasets/ajayrana/hymenoptera-data\n",
    "ddir = 'hymenoptera_data'\n",
    "\n",
    "# Data normalization and augmentation transformations for train dataset\n",
    "# Only normalization transformation for validation dataset\n",
    "# The mean and std for normalization are calculated as the mean of all pixel values for all images in the training set per each image channel - R, G and B\n",
    "\n",
    "train_transformers = v2.Compose([\n",
    "    v2.ToTensor(),\n",
    "    v2.RandomResizedCrop(224),\n",
    "    v2.RandomHorizontalFlip(),\n",
    "    v2.Normalize([0.0, 0.0, 0.0], [1.0, 1.0, 1.0])\n",
    "])\n",
    "test_transformers v2.Compose([\n",
    "    v2.ToTensor(),\n",
    "    v2.CenterCrop(224),\n",
    "    v2.Normalize([0.0, 0.0, 0.0], [1.0, 1.0, 1.0])\n",
    "])\n",
    "\n",
    "train_dataset = \n",
    "    \n",
    "img_data = {k: datasets.ImageFolder(os.path.join(ddir, k), data_transformers[k]) for k in ['train', 'val']}\n",
    "dloaders = {k: torch.utils.data.DataLoader(img_data[k], batch_size=8, shuffle=True) \n",
    "            for k in ['train', 'val']}\n",
    "dset_sizes = {x: len(img_data[x]) for x in ['train', 'val']}\n",
    "classes = img_data['train'].classes\n"
   ]
  },
  {
   "cell_type": "code",
   "execution_count": 5,
   "id": "d62f730e-2436-4808-8b26-357decb82df7",
   "metadata": {},
   "outputs": [
    {
     "name": "stdout",
     "output_type": "stream",
     "text": [
      "bee_index: 309\n",
      "ant_index: 310\n"
     ]
    }
   ],
   "source": [
    "# Imagenet classes downloaded from\n",
    "# https://raw.githubusercontent.com/pytorch/hub/master/imagenet_classes.txt\n",
    "with open(\"imagenet_classes.txt\", 'r') as file:\n",
    "    lines = [line.strip() for line in file]\n",
    "bee_index = lines.index(\"bee\")\n",
    "ant_index = lines.index(\"ant\")\n",
    "\n",
    "print(f\"bee_index: {bee_index}\")\n",
    "print(f\"ant_index: {ant_index}\")"
   ]
  },
  {
   "cell_type": "markdown",
   "id": "da12762c-36c6-4171-b1c4-fd9c60adaa48",
   "metadata": {},
   "source": [
    "## Linear Regression\n",
    "\n",
    "The simplest neural network we can create is linear regression. Each 28x28 image gets converted to a length 784 vector $x$, with each value corresponding to a single pixel value. These are the inputs to the neural network. Each label gets converted to a length 10 vector $y$, where each value is zero except for the index corresponding to the label. That value is one. This encoding scheme is known as *one-hot encoding*. The model we then use is\n",
    "\n",
    "$$\n",
    "y = W^T x + b\n",
    "$$\n",
    "\n",
    "$W$ and $b$ are the parameter of the model that the neural net estimates. $W$ is length 784x10 vector of parameters, and $b$ is a length 10 vector of biases."
   ]
  },
  {
   "cell_type": "code",
   "execution_count": 5,
   "id": "361e6ef7-77af-49fa-b89f-1b74fc146201",
   "metadata": {},
   "outputs": [
    {
     "name": "stdout",
     "output_type": "stream",
     "text": [
      "LinearRegression(\n",
      "  (linear): Linear(in_features=784, out_features=10, bias=True)\n",
      ")\n"
     ]
    }
   ],
   "source": [
    "input_width = 28\n",
    "input_size = input_width * input_width\n",
    "output_size = 10\n",
    "\n",
    "class LinearRegression(nn.Module):\n",
    "    def __init__(self, input_size, output_size):\n",
    "        super(LinearRegression, self).__init__()\n",
    "        self.linear = nn.Linear(input_size, output_size)\n",
    "    \n",
    "    def forward(self, x):\n",
    "        x = x.view(x.size(0), -1)\n",
    "        x = self.linear(x)\n",
    "        return x\n",
    "\n",
    "linear_model = LinearRegression(input_size, output_size)\n",
    "linear_model.to(device)\n",
    "print(linear_model)"
   ]
  },
  {
   "cell_type": "markdown",
   "id": "36d54cf6-bfa3-41b9-83dc-2802887df0bd",
   "metadata": {},
   "source": [
    "## Stochastic Gradient Descent\n",
    "\n",
    "[Stochastic Gradient Descent (SGD)](https://en.wikipedia.org/wiki/Stochastic_gradient_descent) is an optimization technique used in machine learning to train models by minimizing a *loss function*. Instead of using the entire dataset at once, SGD updates the model's parameters (its weights) by computing gradients based on smaller subsets of data called batches. The size of each batch, known as the *batch size*, determines how many data points are used per update. An *epoch* is one complete pass through the entire dataset. The size of each step taken during the optimization process is controlled by the *learning rate*, which determines how much the parameters are adjusted in response to the gradient. To improve convergence, *momentum* is often added, which helps the optimization process move faster by maintaining some influence from the previous update, smoothing out the learning process. *Weight decay* is a regularization technique that discourages overly large weights by adding a small penalty to the loss function, which helps prevent overfitting. Together, these concepts allow SGD to efficiently learn from data and adjust the model to perform better on unseen examples.\n",
    "\n",
    "The standard loss function for linear regression is the *mean square error (MSE)*. For a set of labels $\\{y_1, \\ldots, y_n\\}$, and an estimated set of of labels $\\{\\hat{y}_1, \\ldots, \\hat{y}_n\\}$, the MSE is\n",
    "\n",
    "$$\n",
    "MSE(\\{y_1, \\ldots, y_n\\}, \\{\\hat{y}_1, \\ldots, \\hat{y}_n\\}) = \\frac{1}{nd} \\sum_{i=1}^n \\| y_i - \\hat{y}_i \\|^2.\n",
    "$$\n",
    "\n",
    "Here $n$ is the batch size, and $d$ is the number of output dimensions. Note that this code adjusts the learning rate dynamically. This same appraoch is done in AlexNet. In particular, whenever the loss failed to improve epoch-over-epoch, they divided the learning rate by 10. Let's try that and see if that helps with convergence. This code does the same.\n"
   ]
  },
  {
   "cell_type": "code",
   "execution_count": 7,
   "id": "cbaeef33-99da-4077-b658-c4c1493117b2",
   "metadata": {},
   "outputs": [
    {
     "name": "stdout",
     "output_type": "stream",
     "text": [
      "Epoch: 40 / 40 "
     ]
    },
    {
     "data": {
      "image/png": "[encoded data removed]",
      "text/plain": [
       "<Figure size 640x480 with 1 Axes>"
      ]
     },
     "metadata": {},
     "output_type": "display_data"
    }
   ],
   "source": [
    "epochs = 40\n",
    "learning_rate = 0.01\n",
    "momentum = 0.9\n",
    "weight_decay = 0.0005\n",
    "mse = nn.MSELoss()\n",
    "\n",
    "def train_and_plot(model, train_loader, criterion):\n",
    "    model.train()\n",
    "\n",
    "    optimizer = optim.SGD(model.parameters(), lr=learning_rate, momentum=momentum, weight_decay=weight_decay)\n",
    "\n",
    "    x = np.arange(1, epochs + 1)\n",
    "    y = np.zeros(epochs)\n",
    "\n",
    "    print(\"Epoch:  0 / 40 \", end=\"\\r\")\n",
    "\n",
    "    last_loss = float('inf')\n",
    "    \n",
    "    for epoch in range(epochs):\n",
    "        epoch_loss = 0.0\n",
    "\n",
    "        for inputs, targets in train_loader:\n",
    "            inputs, targets = inputs.to(device), targets.to(device)\n",
    "            predictions = model(inputs)\n",
    "            loss = criterion(predictions, targets)\n",
    "            optimizer.zero_grad()\n",
    "            loss.backward()\n",
    "            optimizer.step()\n",
    "            epoch_loss += loss.item()\n",
    "        y[epoch] = epoch_loss\n",
    "        print(f\"Epoch: {epoch + 1:2} / 40\", end = \"\\r\")\n",
    "\n",
    "        if epoch_loss >= last_loss:\n",
    "            # Reduce learning rate by a factor of 10 if loss didn't improve\n",
    "            for param_group in optimizer.param_groups:\n",
    "                param_group['lr'] /= 10\n",
    "        last_loss = epoch_loss\n",
    "\n",
    "    fig, ax = plt.subplots()\n",
    "    ax.plot(x, y)\n",
    "    ax.set_xlabel(\"Epoch\")\n",
    "    ax.set_ylabel(\"MSE Loss\")\n",
    "    plt.show()\n",
    "\n",
    "train_and_plot(linear_model, train_loader, mse)"
   ]
  },
  {
   "cell_type": "markdown",
   "id": "5a46e034-d32c-47f5-8e42-ec670a2d5e69",
   "metadata": {},
   "source": [
    "Now we'll look at how well this model performs on our validation data. Note that for a given input, our model can output any value in $\\mathbb{R}^10$. Each label however is always a length 10 vector of zeros and ones, with a single value equal to one. To turn our regression model into a classifier, we need to transform our output $y_{pred}$ to $\\hat{y}_{pred}$, where:\n",
    "\n",
    "$$\n",
    "\\hat{y}_{pred}[i] = \\begin{cases}\n",
    "1, & i = \\mathop{\\mathrm{argmax}} \\{i \\in 1, \\ldots, 10 \\mid  y_{pred}[i]\\}\\\\\n",
    "0, & \\mathrm{else}\n",
    "\\end{cases}\n",
    "$$\n",
    "\n",
    "Then we evaluate the model based on what percentage of the time it accurately predicted the output:"
   ]
  },
  {
   "cell_type": "code",
   "execution_count": 8,
   "id": "42fcd134-ac05-487f-a198-8ffe04d2948c",
   "metadata": {},
   "outputs": [
    {
     "name": "stdout",
     "output_type": "stream",
     "text": [
      "Accuracy: 82.40%\n"
     ]
    }
   ],
   "source": [
    "def evaluate_model_accuracy(model, dataloader):\n",
    "    model.eval()\n",
    "    correct = 0\n",
    "    total = 0\n",
    "\n",
    "    with torch.no_grad():\n",
    "        for inputs, labels in dataloader:\n",
    "            inputs, labels = inputs.to(device), labels.to(device)\n",
    "            outputs = model(inputs)\n",
    "\n",
    "            max_indices = torch.argmax(outputs, dim=1)\n",
    "            predicted = torch.zeros_like(outputs)\n",
    "            predicted.scatter_(1, max_indices.unsqueeze(1), 1)\n",
    "            total += labels.size(0)\n",
    "            correct += (predicted == labels).all(dim=1).int().sum().item()\n",
    "    accuracy = correct / total\n",
    "    print(f\"Accuracy: {accuracy:.2%}\")\n",
    "\n",
    "evaluate_model_accuracy(linear_model, validation_loader)"
   ]
  },
  {
   "cell_type": "markdown",
   "id": "7c2f9ae7-2146-4563-8f4e-161491a33b32",
   "metadata": {},
   "source": [
    "This accuracy, while better than a coin toss, is pretty \"meh\". We'll tweak this model to see if we can improve the accuracy."
   ]
  },
  {
   "cell_type": "markdown",
   "id": "f997d372-8ff9-4c81-860e-f5742043ae2f",
   "metadata": {},
   "source": [
    "## Softmax Regression\n",
    "\n",
    "Before we do any tweaking, let's clean up the model a bit, to account for the fact that we are building a classifier, not trying to fit a function (regression), and we're using regression. In our current model, the output can be any number in $\\mathbb{R}^{10}$, but it would be nice if we could interpret the outputs as probabilities. If we apply the *softmax* function to each output while we train the model, we can do just that. \n",
    "\n",
    "The softmax function is a mathematical transformation often used in machine learning to convert a vector of raw scores (logits) into a vector of probabilities, where each value lies between 0 and 1, and the total sum of the probabilities is 1. For a given input vector $y$, the softmax function is defined as \n",
    "$$\n",
    "\\text{softmax}(y_i) = \\frac{e^{y_i}}{\\sum_{j=1}^n e^{y_j}}\n",
    "$$\n",
    "This ensures that higher scores correspond to higher probabilities while maintaining relative magnitudes. Softmax is commonly used in the output layer of classification models, especially in multi-class problems, to represent the model's confidence in each class. It is also differentiable, making it compatible with gradient-based optimization algorithms like backpropagation."
   ]
  },
  {
   "cell_type": "code",
   "execution_count": 9,
   "id": "16fdde24-47ec-47b0-884b-0132c0736fde",
   "metadata": {},
   "outputs": [
    {
     "name": "stdout",
     "output_type": "stream",
     "text": [
      "SoftmaxModel(\n",
      "  (stack): Sequential(\n",
      "    (0): Linear(in_features=784, out_features=10, bias=True)\n",
      "    (1): Softmax(dim=1)\n",
      "  )\n",
      ")\n"
     ]
    }
   ],
   "source": [
    "class SoftmaxModel(nn.Module):\n",
    "    def __init__(self, input_size, output_size):\n",
    "        super(SoftmaxModel, self).__init__()\n",
    "        self.stack = nn.Sequential(\n",
    "            nn.Linear(input_size, output_size),\n",
    "            nn.Softmax(dim=1)\n",
    "        )\n",
    "            \n",
    "    def forward(self, x):\n",
    "        x = x.view(x.size(0), -1)\n",
    "        x = self.stack(x)\n",
    "        return x\n",
    "\n",
    "\n",
    "# Free up GPU space from the old model:\n",
    "if 'linear_model' in locals():\n",
    "    del linear_model\n",
    "empty_cache()\n",
    "\n",
    "softmax_model = SoftmaxModel(input_size, output_size)\n",
    "softmax_model.to(device)\n",
    "print(softmax_model)\n"
   ]
  },
  {
   "cell_type": "markdown",
   "id": "9571081d-d1f3-4b2b-a313-18789901a44f",
   "metadata": {},
   "source": [
    "Before we train the model, we're going to change the loss function, to take advantage of the fact that our outputs represent probablities. We'll use the *cross-entropy loss* for this.\n",
    "\n",
    "Cross-entropy loss is a widely used loss function for classification tasks, particularly in machine learning models that output probabilities, such as those using softmax activation. It measures the difference between the predicted probability distribution and the true distribution of the labels. For a single data point, the cross-entropy loss is defined as:\n",
    "$$\n",
    "-\\sum_{i} y_i \\log(\\hat{y}_i),\n",
    "$$\n",
    "where $y_i$ is the true label (1 for the correct class and 0 otherwise), and $\\hat{y}_i$ is the predicted probability for class $i$. Intuitively, it penalizes predictions that assign low probabilities to the correct class, with higher penalties for greater mismatches between the predicted and true distributions. Cross-entropy loss is differentiable, making it suitable for optimization in deep learning frameworks, and is commonly paired with a softmax output layer in multi-class classification problems.\n",
    "\n",
    "Now we're ready to adapt our training method."
   ]
  },
  {
   "cell_type": "code",
   "execution_count": 10,
   "id": "3b1d2dbb-175a-4671-97d2-f427148af40a",
   "metadata": {},
   "outputs": [
    {
     "name": "stdout",
     "output_type": "stream",
     "text": [
      "Epoch: 40 / 40 "
     ]
    },
    {
     "data": {
      "image/png": "[encoded data removed]",
      "text/plain": [
       "<Figure size 640x480 with 1 Axes>"
      ]
     },
     "metadata": {},
     "output_type": "display_data"
    }
   ],
   "source": [
    "cross_entropy = nn.CrossEntropyLoss()\n",
    "train_and_plot(softmax_model, train_loader, cross_entropy)"
   ]
  },
  {
   "cell_type": "markdown",
   "id": "3d102bdd-3153-42cd-916a-818e09eeb343",
   "metadata": {},
   "source": [
    "Now let's measure the accuracy of this model as a predictor:"
   ]
  },
  {
   "cell_type": "code",
   "execution_count": 11,
   "id": "f37a5c32-c00d-4381-bc9d-2a12f2ecbdd5",
   "metadata": {},
   "outputs": [
    {
     "name": "stdout",
     "output_type": "stream",
     "text": [
      "Accuracy: 80.98%\n"
     ]
    }
   ],
   "source": [
    "evaluate_model_accuracy(softmax_model, validation_loader)"
   ]
  },
  {
   "cell_type": "markdown",
   "id": "c49b2c7c-2fe7-4b53-8597-b487014500bd",
   "metadata": {},
   "source": [
    "## Hidden Layers with ReLU\n",
    "\n",
    "Adding \"hidden\" layers to a neural network can often improve performance. Hidden layers are the intermediate layers in a neural network situated between the input layer and the output layer. They are composed of neurons, or units, that process input data through learned weights and biases, applying an activation function to introduce nonlinearity. This nonlinearity allows the network to model complex patterns and relationships in the data, transforming raw inputs into higher-level feature representations. Each hidden layer outputs a set of features that serve as inputs to the next layer, enabling the network to build hierarchical features incrementally. For instance, in image processing, early hidden layers might detect edges, while deeper layers combine those edges into shapes and eventually objects. The depth (number of hidden layers) and width (number of neurons per layer) of the hidden layers determine the model's capacity to learn from data, with deeper and wider networks generally being more powerful but requiring careful tuning to avoid overfitting or excessive computational costs.\n",
    "\n",
    "A hidden layer enhances the model's capacity to learn and represent complex, nonlinear relationships in the data. Each hidden layer acts as a transformation stage, enabling the network to build hierarchical features. For example, in an image recognition task, the first layer may detect edges, the next might combine edges into shapes, and deeper layers could identify objects. This hierarchical learning allows the network to generalize better to complex patterns that simpler models cannot capture. Furthermore, the universal approximation theorem states that a neural network with at least one hidden layer can approximate any continuous function, but adding more hidden layers can achieve this approximation more efficiently for intricate tasks. However, while deeper networks often improve performance, this is contingent on proper training techniques, such as good initialization, regularization, and optimization strategies, to avoid issues like overfitting or vanishing gradients.\n",
    "\n",
    "The non-linear activation function used AlexNet is the Rectified Linear Unit (ReLU). ReLU is commonly used in neural networks to introduce nonlinearity, enabling them to learn complex patterns in data. Mathematically, ReLU is defined as:\n",
    "$$\n",
    "f(x) = \\max(0, x),\n",
    "$$\n",
    "meaning it outputs $x$ if $x$ is positive, and 0 otherwise. Its simplicity and efficiency make it a popular choice in deep learning, as it avoids some drawbacks of earlier activation functions like sigmoid and tanh, such as vanishing gradients. ReLU's unbounded positive range allows for faster convergence during training, while its sparse activation (outputting 0 for negative inputs) enhances computational efficiency and can improve the network's ability to generalize. Despite its advantages, ReLU can suffer from the ``dying ReLU'' problem, where neurons output zero for all inputs, effectively becoming inactive. Variants like Leaky ReLU and Parametric ReLU address this issue by allowing small, non-zero outputs for negative inputs."
   ]
  },
  {
   "cell_type": "code",
   "execution_count": 13,
   "id": "ed0f1d19-898a-4a19-904c-97702ee4b0e1",
   "metadata": {},
   "outputs": [
    {
     "name": "stdout",
     "output_type": "stream",
     "text": [
      "LayeredModel(\n",
      "  (stack): Sequential(\n",
      "    (0): Linear(in_features=784, out_features=49, bias=True)\n",
      "    (1): ReLU()\n",
      "    (2): Linear(in_features=49, out_features=10, bias=True)\n",
      "    (3): Softmax(dim=1)\n",
      "  )\n",
      ")\n"
     ]
    }
   ],
   "source": [
    "dense_width = 49 # width of hidden layer\n",
    "\n",
    "class LayeredModel(nn.Module):\n",
    "    def __init__(self, input_size, output_size):\n",
    "        super(LayeredModel, self).__init__()\n",
    "        self.stack = nn.Sequential(\n",
    "            nn.Linear(input_size, dense_width),\n",
    "            nn.ReLU(),\n",
    "            nn.Linear(dense_width, output_size),\n",
    "            nn.Softmax(dim=1)\n",
    "        )\n",
    "            \n",
    "    def forward(self, x):\n",
    "        x = x.view(x.size(0), -1)\n",
    "        x = self.stack(x)\n",
    "        return x\n",
    "\n",
    "\n",
    "# Free up GPU space from the old model:\n",
    "if 'softmax_model' in locals():\n",
    "    del softmax_model\n",
    "empty_cache()\n",
    "\n",
    "layered_model = LayeredModel(input_size, output_size)\n",
    "layered_model.to(device)\n",
    "print(layered_model)"
   ]
  },
  {
   "cell_type": "code",
   "execution_count": 14,
   "id": "93975db8-8a89-47a9-846d-679fefaf5f8f",
   "metadata": {},
   "outputs": [
    {
     "name": "stdout",
     "output_type": "stream",
     "text": [
      "Epoch: 40 / 40 "
     ]
    },
    {
     "data": {
      "image/png": "[encoded data removed]",
      "text/plain": [
       "<Figure size 640x480 with 1 Axes>"
      ]
     },
     "metadata": {},
     "output_type": "display_data"
    }
   ],
   "source": [
    "# Training the model\n",
    "train_and_plot(layered_model, train_loader, cross_entropy)"
   ]
  },
  {
   "cell_type": "code",
   "execution_count": 15,
   "id": "41fe55a3-2d15-431a-9a2a-83af24c56345",
   "metadata": {},
   "outputs": [
    {
     "name": "stdout",
     "output_type": "stream",
     "text": [
      "Accuracy: 79.54%\n"
     ]
    }
   ],
   "source": [
    "# Validating the model\n",
    "evaluate_model_accuracy(layered_model, validation_loader)"
   ]
  },
  {
   "cell_type": "markdown",
   "id": "ad779197-2c10-4f3e-bb20-af41c0a96313",
   "metadata": {},
   "source": [
    "Note that our accuracy got worse when adding the hidden layer. We just added a bunch of parameters, but didn't increase the data size, so this might not be any surprise. If we ditch the hidden layer, we fix this problem, but we miss out on the opportunity to have the nueral net learn a more complex, hierarchical structure. So as not to throw the baby out with the bathwater, we'll use dropout."
   ]
  },
  {
   "cell_type": "markdown",
   "id": "f247dfb6-bbc1-4c1a-8a26-3c1b010df3a0",
   "metadata": {},
   "source": [
    "## Dropout\n",
    "\n",
    "Dropout is a regularization technique used in neural networks to prevent overfitting and improve generalization. During training, dropout randomly \"drops out\" a fraction of neurons in a layer by setting their outputs to zero with a predefined probability, typically ranging from 0.2 to 0.5. This forces the network to rely on multiple independent feature representations rather than overfitting to specific patterns in the training data. By doing so, it reduces the co-adaptation of neurons and makes the network more robust. During inference, dropout is disabled, and all neurons contribute to the predictions, but their weights are scaled to account for the training phase dropout. This technique is simple to implement and is widely used in deep learning models to enhance their ability to generalize to unseen data. In AlexNet, they use a dropout factor of 0.5."
   ]
  },
  {
   "cell_type": "code",
   "execution_count": 16,
   "id": "503e5f9c-0a55-4efb-a4ed-45a8822ce500",
   "metadata": {},
   "outputs": [
    {
     "name": "stdout",
     "output_type": "stream",
     "text": [
      "DropoutModel(\n",
      "  (stack): Sequential(\n",
      "    (0): Dropout(p=0.5, inplace=False)\n",
      "    (1): Linear(in_features=784, out_features=49, bias=True)\n",
      "    (2): ReLU()\n",
      "    (3): Dropout(p=0.5, inplace=False)\n",
      "    (4): Linear(in_features=49, out_features=10, bias=True)\n",
      "    (5): Softmax(dim=1)\n",
      "  )\n",
      ")\n"
     ]
    }
   ],
   "source": [
    "dropout = 0.5\n",
    "\n",
    "class DropoutModel(nn.Module):\n",
    "    def __init__(self, input_size, output_size):\n",
    "        super(DropoutModel, self).__init__()\n",
    "        self.stack = nn.Sequential(\n",
    "            nn.Dropout(dropout),\n",
    "            nn.Linear(input_size, dense_width),\n",
    "            nn.ReLU(),\n",
    "            nn.Dropout(dropout),\n",
    "            nn.Linear(dense_width, output_size),\n",
    "            nn.Softmax(dim=1)\n",
    "        )\n",
    "            \n",
    "    def forward(self, x):\n",
    "        x = x.view(x.size(0), -1)\n",
    "        x = self.stack(x)\n",
    "        return x\n",
    "\n",
    "\n",
    "# Free up GPU space from the old model:\n",
    "if 'layered_model' in locals():\n",
    "    del layered_model\n",
    "empty_cache()\n",
    "\n",
    "dropout_model = DropoutModel(input_size, output_size)\n",
    "dropout_model.to(device)\n",
    "print(dropout_model)"
   ]
  },
  {
   "cell_type": "code",
   "execution_count": 17,
   "id": "58bf2598-61ba-46ee-b585-d79bc3a6c0ad",
   "metadata": {},
   "outputs": [
    {
     "name": "stdout",
     "output_type": "stream",
     "text": [
      "Epoch: 40 / 40 "
     ]
    },
    {
     "data": {
      "image/png": "[encoded data removed]",
      "text/plain": [
       "<Figure size 640x480 with 1 Axes>"
      ]
     },
     "metadata": {},
     "output_type": "display_data"
    }
   ],
   "source": [
    "train_and_plot(dropout_model, train_loader, cross_entropy)"
   ]
  },
  {
   "cell_type": "code",
   "execution_count": 18,
   "id": "a1cf953f-2fac-4f37-af83-17d8370d129b",
   "metadata": {},
   "outputs": [
    {
     "name": "stdout",
     "output_type": "stream",
     "text": [
      "Accuracy: 79.81%\n"
     ]
    }
   ],
   "source": [
    "evaluate_model_accuracy(dropout_model, validation_loader)"
   ]
  },
  {
   "cell_type": "markdown",
   "id": "76db12c8-ca2f-44fe-b973-b89140612544",
   "metadata": {},
   "source": [
    "## A Larger Model"
   ]
  },
  {
   "cell_type": "code",
   "execution_count": 19,
   "id": "edd20465-a150-4030-a4cc-fcd5ede12af1",
   "metadata": {},
   "outputs": [
    {
     "name": "stdout",
     "output_type": "stream",
     "text": [
      "DropoutModel(\n",
      "  (stack): Sequential(\n",
      "    (0): Dropout(p=0.5, inplace=False)\n",
      "    (1): Linear(in_features=784, out_features=49, bias=True)\n",
      "    (2): ReLU()\n",
      "    (3): Dropout(p=0.5, inplace=False)\n",
      "    (4): Linear(in_features=49, out_features=10, bias=True)\n",
      "    (5): Softmax(dim=1)\n",
      "  )\n",
      ")\n"
     ]
    }
   ],
   "source": [
    "class DeeperModel(nn.Module):\n",
    "    def __init__(self, input_size, output_size):\n",
    "        super(DeeperModel, self).__init__()\n",
    "        self.stack = nn.Sequential(\n",
    "            nn.Flatten(),\n",
    "            nn.Dropout(dropout),\n",
    "            nn.Linear(input_size, dense_width),\n",
    "            nn.ReLU(),\n",
    "            nn.Dropout(dropout),\n",
    "            nn.Linear(dense_width, dense_width),\n",
    "            nn.ReLU(),\n",
    "            nn.Dropout(dropout),\n",
    "            nn.Linear(dense_width, output_size),\n",
    "            nn.Softmax(dim=1)\n",
    "        )\n",
    "            \n",
    "    def forward(self, x):\n",
    "        x = self.stack(x)\n",
    "        return x\n",
    "\n",
    "\n",
    "# Free up GPU space from the old model:\n",
    "if 'dropout_model' in locals():\n",
    "    del dropout_model\n",
    "empty_cache()\n",
    "\n",
    "deeper_model = DropoutModel(input_size, output_size)\n",
    "deeper_model.to(device)\n",
    "print(deeper_model)"
   ]
  },
  {
   "cell_type": "code",
   "execution_count": 20,
   "id": "59b02b0b-0a8c-48cb-9807-d669f94eb384",
   "metadata": {},
   "outputs": [
    {
     "name": "stdout",
     "output_type": "stream",
     "text": [
      "Epoch: 40 / 40 "
     ]
    },
    {
     "data": {
      "image/png": "[encoded data removed]",
      "text/plain": [
       "<Figure size 640x480 with 1 Axes>"
      ]
     },
     "metadata": {},
     "output_type": "display_data"
    }
   ],
   "source": [
    "train_and_plot(deeper_model, train_loader, cross_entropy)"
   ]
  },
  {
   "cell_type": "code",
   "execution_count": 21,
   "id": "bc1f5bf6-d49c-46f1-b398-3d9ff9a69020",
   "metadata": {},
   "outputs": [
    {
     "name": "stdout",
     "output_type": "stream",
     "text": [
      "Accuracy: 79.80%\n"
     ]
    }
   ],
   "source": [
    "accuracy = evaluate_model_accuracy(deeper_model, validation_loader)"
   ]
  },
  {
   "cell_type": "markdown",
   "id": "31508584-efa6-47b7-b683-7657c9fe3679",
   "metadata": {},
   "source": [
    "## Convolutional Layers\n",
    "\n",
    "Convolutional layers are fundamental building blocks in convolutional neural networks (CNNs), designed to efficiently extract features from spatial data like images or videos. Unlike fully connected layers, which treat each input feature independently, convolutional layers leverage the spatial structure of the input by applying a set of learnable filters (kernels) over small, localized regions of the input. Each filter detects specific patterns, such as edges, textures, or shapes, by sliding (convolving) across the input, producing feature maps that highlight these patterns. Convolutional layers are computationally efficient because they use weight sharing, where the same filter is applied across the entire input, significantly reducing the number of learnable parameters compared to fully connected layers. Additionally, by stacking multiple convolutional layers, a CNN can learn hierarchical features, with earlier layers capturing simple patterns and deeper layers detecting more complex structures. These properties make convolutional layers particularly effective for tasks like image classification, object detection, and semantic segmentation.\n",
    "\n",
    "Let's add a convolutional layer at the beginning of our network."
   ]
  },
  {
   "cell_type": "code",
   "execution_count": 22,
   "id": "5bc0b0ea-e7a8-456e-99ad-36ec3ddc95f5",
   "metadata": {},
   "outputs": [
    {
     "name": "stdout",
     "output_type": "stream",
     "text": [
      "ConvolutionalModel(\n",
      "  (stack): Sequential(\n",
      "    (0): Dropout(p=0.5, inplace=False)\n",
      "    (1): Conv2d(1, 1, kernel_size=(3, 3), stride=(1, 1))\n",
      "    (2): Flatten(start_dim=1, end_dim=-1)\n",
      "    (3): Dropout(p=0.5, inplace=False)\n",
      "    (4): Linear(in_features=676, out_features=49, bias=True)\n",
      "    (5): ReLU()\n",
      "    (6): Dropout(p=0.5, inplace=False)\n",
      "    (7): Linear(in_features=49, out_features=49, bias=True)\n",
      "    (8): ReLU()\n",
      "    (9): Dropout(p=0.5, inplace=False)\n",
      "    (10): Linear(in_features=49, out_features=10, bias=True)\n",
      "    (11): Softmax(dim=1)\n",
      "  )\n",
      ")\n"
     ]
    }
   ],
   "source": [
    "kernal_width = 3\n",
    "\n",
    "class ConvolutionalModel(nn.Module):\n",
    "    def __init__(self, input_size, output_size):\n",
    "        super(ConvolutionalModel, self).__init__()\n",
    "        conv_output_size = (input_width - kernal_width + 1)**2\n",
    "        self.stack = nn.Sequential(\n",
    "            nn.Dropout(dropout),\n",
    "            nn.Conv2d(1, 1, (kernal_width, kernal_width)),\n",
    "            nn.Flatten(),\n",
    "            nn.Dropout(dropout),\n",
    "            nn.Linear(conv_output_size, dense_width),\n",
    "            nn.ReLU(),\n",
    "            nn.Dropout(dropout),\n",
    "            nn.Linear(dense_width, dense_width),\n",
    "            nn.ReLU(),\n",
    "            nn.Dropout(dropout),\n",
    "            nn.Linear(dense_width, output_size),\n",
    "            nn.Softmax(dim=1)\n",
    "        )\n",
    "            \n",
    "    def forward(self, x):\n",
    "        x = self.stack(x)\n",
    "        return x\n",
    "\n",
    "\n",
    "# Free up GPU space from the old model:\n",
    "if 'deeper_model' in locals():\n",
    "    del deeper_model\n",
    "empty_cache()\n",
    "\n",
    "convolutional_model = ConvolutionalModel(input_size, output_size)\n",
    "convolutional_model.to(device)\n",
    "print(convolutional_model)"
   ]
  },
  {
   "cell_type": "code",
   "execution_count": 23,
   "id": "b4e79d09-dd6f-4e2c-999d-29490d4288e8",
   "metadata": {},
   "outputs": [
    {
     "name": "stdout",
     "output_type": "stream",
     "text": [
      "Epoch: 40 / 40 "
     ]
    },
    {
     "data": {
      "image/png": "[encoded data removed]",
      "text/plain": [
       "<Figure size 640x480 with 1 Axes>"
      ]
     },
     "metadata": {},
     "output_type": "display_data"
    }
   ],
   "source": [
    "train_and_plot(convolutional_model, train_loader, cross_entropy)"
   ]
  },
  {
   "cell_type": "code",
   "execution_count": 24,
   "id": "ca2a0204-0abb-4cae-9987-4e3f29d74738",
   "metadata": {},
   "outputs": [
    {
     "name": "stdout",
     "output_type": "stream",
     "text": [
      "Accuracy: 77.73%\n"
     ]
    }
   ],
   "source": [
    "evaluate_model_accuracy(convolutional_model, validation_loader)"
   ]
  },
  {
   "cell_type": "markdown",
   "id": "be9c4fbc-0af5-41c9-9f1c-9041021c9152",
   "metadata": {},
   "source": [
    "## Max Pooling\n",
    "\n",
    "\n",
    "Max pooling is a down-sampling operation used in convolutional neural networks (CNNs) to reduce the spatial dimensions of feature maps while retaining the most significant information. It works by sliding a pooling window (e.g., 2×2) over the input feature map and selecting the maximum value within each region. This helps reduce computational complexity, prevent overfitting, and make the model more robust to spatial translations of the input. Using overlap in max pooling, where the pooling regions partially overlap due to a stride smaller than the pooling window size, can preserve more spatial detail compared to non-overlapping pooling. Overlap is beneficial in scenarios where finer granularity in the feature representation is crucial, as it reduces the risk of losing important local features at the cost of slightly increased computational load. Overlapping max pooling provides a smoother transition between regions and can improve performance in tasks requiring high spatial precision."
   ]
  },
  {
   "cell_type": "code",
   "execution_count": 25,
   "id": "0e47d43d-86ae-4186-b7c1-3ab0cecbe692",
   "metadata": {},
   "outputs": [
    {
     "name": "stdout",
     "output_type": "stream",
     "text": [
      "PoolingModel(\n",
      "  (stack): Sequential(\n",
      "    (0): Dropout(p=0.5, inplace=False)\n",
      "    (1): Conv2d(1, 1, kernel_size=(3, 3), stride=(1, 1))\n",
      "    (2): MaxPool2d(kernel_size=3, stride=2, padding=0, dilation=1, ceil_mode=False)\n",
      "    (3): Flatten(start_dim=1, end_dim=-1)\n",
      "    (4): Dropout(p=0.5, inplace=False)\n",
      "    (5): Linear(in_features=144, out_features=49, bias=True)\n",
      "    (6): ReLU()\n",
      "    (7): Dropout(p=0.5, inplace=False)\n",
      "    (8): Linear(in_features=49, out_features=49, bias=True)\n",
      "    (9): ReLU()\n",
      "    (10): Dropout(p=0.5, inplace=False)\n",
      "    (11): Linear(in_features=49, out_features=10, bias=True)\n",
      "    (12): Softmax(dim=1)\n",
      "  )\n",
      ")\n"
     ]
    }
   ],
   "source": [
    "pool_width = 3\n",
    "stride_width = 2\n",
    "\n",
    "class PoolingModel(nn.Module):\n",
    "    def __init__(self, input_size, output_size):\n",
    "        super(PoolingModel, self).__init__()\n",
    "        conv_output_width = input_width - kernal_width + 1\n",
    "        pool_output_width = (conv_output_width - pool_width) // 2 + 1\n",
    "        pool_output_size = pool_output_width**2\n",
    "        self.stack = nn.Sequential(\n",
    "            nn.Dropout(dropout),\n",
    "            nn.Conv2d(1, 1, (kernal_width, kernal_width)),\n",
    "            nn.MaxPool2d(pool_width, stride=stride_width),\n",
    "            nn.Flatten(),\n",
    "            nn.Dropout(dropout),\n",
    "            nn.Linear(pool_output_size, dense_width),\n",
    "            nn.ReLU(),\n",
    "            nn.Dropout(dropout),\n",
    "            nn.Linear(dense_width, dense_width),\n",
    "            nn.ReLU(),\n",
    "            nn.Dropout(dropout),\n",
    "            nn.Linear(dense_width, output_size),\n",
    "            nn.Softmax(dim=1)\n",
    "        )\n",
    "            \n",
    "    def forward(self, x):\n",
    "        x = self.stack(x)\n",
    "        return x\n",
    "\n",
    "\n",
    "# Free up GPU space from the old model:\n",
    "if 'convolutional_model' in locals():\n",
    "    del convolutional_model\n",
    "empty_cache()\n",
    "\n",
    "pooling_model = PoolingModel(input_size, output_size)\n",
    "pooling_model.to(device)\n",
    "print(pooling_model)"
   ]
  },
  {
   "cell_type": "code",
   "execution_count": 27,
   "id": "789c70bd-2f71-458d-afc0-1e40b18cab3e",
   "metadata": {},
   "outputs": [
    {
     "name": "stdout",
     "output_type": "stream",
     "text": [
      "Epoch: 40 / 40 "
     ]
    },
    {
     "data": {
      "image/png": "[encoded data removed]",
      "text/plain": [
       "<Figure size 640x480 with 1 Axes>"
      ]
     },
     "metadata": {},
     "output_type": "display_data"
    }
   ],
   "source": [
    "train_and_plot(pooling_model, train_loader, cross_entropy)"
   ]
  },
  {
   "cell_type": "code",
   "execution_count": 28,
   "id": "405ece22-61c7-4f75-855f-29bd70d7fe47",
   "metadata": {},
   "outputs": [
    {
     "name": "stdout",
     "output_type": "stream",
     "text": [
      "Accuracy: 65.13%\n"
     ]
    }
   ],
   "source": [
    "accuracy = evaluate_model_accuracy(pooling_model, validation_loader)"
   ]
  },
  {
   "cell_type": "markdown",
   "id": "5730d17d-84c5-448e-acc1-6c52e5d3535e",
   "metadata": {},
   "source": [
    "## Data Augmentation\n",
    "\n",
    "To enlarge the dataset, AlexNet used two types of *data augmentation*. Data augmentation techniques generate new data points from existing ones in label-preserving ways, to simulate having more data for training. One data augmentation set used in AlexNet involved color manipulation, and since the smaller data set here is black and white, doesn't apply. The other was to extract random patches from the images, with random horizontal reflections, to enlarge the data set."
   ]
  },
  {
   "cell_type": "code",
   "execution_count": 34,
   "id": "94b606e6-9358-4415-9833-6c88d39ca8c7",
   "metadata": {},
   "outputs": [
    {
     "name": "stdout",
     "output_type": "stream",
     "text": [
      "AugmentedModel(\n",
      "  (stack): Sequential(\n",
      "    (0): RandomCrop(size=(24, 24), pad_if_needed=False, fill=0, padding_mode=constant)\n",
      "    (1): RandomHorizontalFlip(p=0.5)\n",
      "    (2): Dropout(p=0.5, inplace=False)\n",
      "    (3): Conv2d(1, 1, kernel_size=(3, 3), stride=(1, 1))\n",
      "    (4): MaxPool2d(kernel_size=3, stride=2, padding=0, dilation=1, ceil_mode=False)\n",
      "    (5): Flatten(start_dim=1, end_dim=-1)\n",
      "    (6): Dropout(p=0.5, inplace=False)\n",
      "    (7): Linear(in_features=100, out_features=49, bias=True)\n",
      "    (8): ReLU()\n",
      "    (9): Dropout(p=0.5, inplace=False)\n",
      "    (10): Linear(in_features=49, out_features=49, bias=True)\n",
      "    (11): ReLU()\n",
      "    (12): Dropout(p=0.5, inplace=False)\n",
      "    (13): Linear(in_features=49, out_features=10, bias=True)\n",
      "    (14): Softmax(dim=1)\n",
      "  )\n",
      ")\n"
     ]
    }
   ],
   "source": [
    "class AugmentedModel(nn.Module):\n",
    "    def __init__(self, input_size, output_size):\n",
    "        super(AugmentedModel, self).__init__()\n",
    "        conv_output_width = (input_width - 4) - kernal_width + 1\n",
    "        pool_output_width = (conv_output_width - pool_width) // 2 + 1\n",
    "        pool_output_size = pool_output_width**2\n",
    "        self.stack = nn.Sequential(\n",
    "            v2.RandomCrop(size=(24, 24)),\n",
    "            v2.RandomHorizontalFlip(p=0.5),\n",
    "            nn.Dropout(dropout),\n",
    "            nn.Conv2d(1, 1, (kernal_width, kernal_width)),\n",
    "            nn.MaxPool2d(pool_width, stride=stride_width),\n",
    "            nn.Flatten(),\n",
    "            nn.Dropout(dropout),\n",
    "            nn.Linear(pool_output_size, dense_width),\n",
    "            nn.ReLU(),\n",
    "            nn.Dropout(dropout),\n",
    "            nn.Linear(dense_width, dense_width),\n",
    "            nn.ReLU(),\n",
    "            nn.Dropout(dropout),\n",
    "            nn.Linear(dense_width, output_size),\n",
    "            nn.Softmax(dim=1)\n",
    "        )\n",
    "            \n",
    "    def forward(self, x):\n",
    "        x = self.stack(x)\n",
    "        return x\n",
    "\n",
    "\n",
    "# Free up GPU space from the old model:\n",
    "if 'pooling_model' in locals():\n",
    "    del pooling_model\n",
    "empty_cache()\n",
    "\n",
    "augmented_model = AugmentedModel(input_size, output_size)\n",
    "augmented_model.to(device)\n",
    "print(augmented_model)"
   ]
  },
  {
   "cell_type": "code",
   "execution_count": 35,
   "id": "408c11e7-9d43-4eae-b63e-42f4fec50716",
   "metadata": {},
   "outputs": [
    {
     "name": "stdout",
     "output_type": "stream",
     "text": [
      "Epoch: 40 / 40 "
     ]
    },
    {
     "data": {
      "image/png": "[encoded data removed]",
      "text/plain": [
       "<Figure size 640x480 with 1 Axes>"
      ]
     },
     "metadata": {},
     "output_type": "display_data"
    }
   ],
   "source": [
    "train_and_plot(augmented_model, train_loader, cross_entropy)"
   ]
  },
  {
   "cell_type": "code",
   "execution_count": 37,
   "id": "09a1e3c7-cab2-4591-a178-cf19c3c0bc7f",
   "metadata": {},
   "outputs": [
    {
     "name": "stdout",
     "output_type": "stream",
     "text": [
      "Accuracy: 53.72%\n"
     ]
    }
   ],
   "source": [
    "accuracy = evaluate_model_accuracy(augmented_model, validation_loader)"
   ]
  },
  {
   "cell_type": "markdown",
   "id": "3c8cb349-7339-40f6-9001-7b568a6bae6b",
   "metadata": {},
   "source": [
    "## A Larger Dataset\n",
    "\n",
    "The real AlexNet runs on a much larger data set. The implemetation uses the above building blocks, but it's not implemented here, because it would be quite slow to run."
   ]
  }
 ],
 "metadata": {
  "kernelspec": {
   "display_name": "Python 3 (ipykernel)",
   "language": "python",
   "name": "python3"
  },
  "language_info": {
   "codemirror_mode": {
    "name": "ipython",
    "version": 3
   },
   "file_extension": ".py",
   "mimetype": "text/x-python",
   "name": "python",
   "nbconvert_exporter": "python",
   "pygments_lexer": "ipython3",
   "version": "3.12.8"
  }
 },
 "nbformat": 4,
 "nbformat_minor": 5
}
